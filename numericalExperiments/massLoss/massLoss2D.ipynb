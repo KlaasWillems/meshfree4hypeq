{
 "cells": [
  {
   "cell_type": "code",
   "execution_count": 1,
   "metadata": {},
   "outputs": [
    {
     "data": {
      "text/plain": [
       "Plots.PlotlyJSBackend()"
      ]
     },
     "metadata": {},
     "output_type": "display_data"
    }
   ],
   "source": [
    "using JLD2\n",
    "using Plots\n",
    "using VoronoiCells\n",
    "using GeometryBasics\n",
    "using Meshfree4ScalarEq.ParticleGrids\n",
    "plotlyjs()"
   ]
  },
  {
   "cell_type": "code",
   "execution_count": 2,
   "metadata": {},
   "outputs": [
    {
     "data": {
      "text/plain": [
       "getMassLossData (generic function with 1 method)"
      ]
     },
     "metadata": {},
     "output_type": "display_data"
    }
   ],
   "source": [
    "function getMassLossData(Nx::Integer)\n",
    "    dataFolder = \"$(@__DIR__)/../L2Stability2D/data/\"\n",
    "    algList = Vector{String}(undef, 0)\n",
    "    fileList = Vector{String}(undef, 0)\n",
    "    for file in readdir(dataFolder)\n",
    "        if contains(file, \"$(Nx)\") && (file[end-2:end] != \"txt\") && (file[end-2:end] != \"pdf\") && (file[end-1:end] == \"_1\")\n",
    "            alg = split(file, \"_\")[1]\n",
    "            push!(algList, alg)\n",
    "            push!(fileList, dataFolder*file)\n",
    "        end\n",
    "    end\n",
    "\n",
    "    D = Dict{String, Matrix{Float64}}()\n",
    "    for (j, file) in enumerate(fileList)\n",
    "        steps = count((contains(t, \"step\" ) for t in readdir(file * \"/data/\")))\n",
    "        data = Matrix{Float64}(undef, steps, 2)\n",
    "        i = 1\n",
    "        for dataFile in readdir(file * \"/data/\")\n",
    "            if contains(dataFile, \"step\")\n",
    "                d = load(file * \"/data/\" * dataFile)\n",
    "                data[i, 1] = d[\"time\"]\n",
    "                data[i, 2] = sum(particle ->  particle.rho*particle.volume, d[\"particleGrid\"].grid)\n",
    "                i += 1\n",
    "            end\n",
    "        end\n",
    "        # println(algList[j], \" \", data)\n",
    "\n",
    "        # Sort increase time\n",
    "        perm = sortperm(data[:, 1])\n",
    "        data[:, 1] .= data[perm, 1]\n",
    "        data[:, 2] .= data[perm, 2]\n",
    "\n",
    "        # Normalise \n",
    "        data[:, 2] .= data[:, 2]/data[1, 2]\n",
    "\n",
    "        # Save to dict\n",
    "        D[algList[j]] = data\n",
    "    end\n",
    "    return D, algList\n",
    "end"
   ]
  },
  {
   "cell_type": "code",
   "execution_count": 3,
   "metadata": {},
   "outputs": [],
   "source": [
    "D70, algList70 = getMassLossData(70);"
   ]
  },
  {
   "cell_type": "markdown",
   "metadata": {},
   "source": [
    "Not enough save points in L2Stability data to plot the mass as a function of time..."
   ]
  },
  {
   "cell_type": "code",
   "execution_count": 5,
   "metadata": {},
   "outputs": [
    {
     "name": "stderr",
     "output_type": "stream",
     "text": [
      "┌ Warning: attempting to remove probably stale pidfile\n",
      "│   path = /net/nascip131/users/cip/techno1/cac13ruw/.jlassetregistry.lock\n",
      "└ @ Pidfile /users/cip/techno1/cac13ruw/.julia/packages/Pidfile/DDu3M/src/Pidfile.jl:260\n"
     ]
    },
    {
     "data": {
      "application/vnd.plotly.v1+json": {
       "data": [
        {
         "colorbar": {
          "len": 0.9104877515310585,
          "title": "",
          "x": 0.9950787401574802,
          "y": 0.505787037037037
         },
         "legendgroup": "DumbserWENO",
         "line": {
          "color": "rgba(0, 154, 250, 1.000)",
          "dash": "solid",
          "shape": "linear",
          "width": 1
         },
         "marker": {
          "color": "rgba(0, 154, 250, 1.000)",
          "line": {
           "color": "rgba(0, 0, 0, 1.000)",
           "width": 1
          },
          "size": 6,
          "symbol": "circle"
         },
         "mode": "lines+markers",
         "name": "DumbserWENO",
         "showlegend": true,
         "type": "scatter",
         "x": [
          42.42640687119285
         ],
         "xaxis": "x",
         "y": [
          1
         ],
         "yaxis": "y"
        },
        {
         "colorbar": {
          "len": 0.9104877515310585,
          "title": "",
          "x": 0.9950787401574802,
          "y": 0.505787037037037
         },
         "legendgroup": "MUSCL2MOOD",
         "line": {
          "color": "rgba(227, 111, 71, 1.000)",
          "dash": "solid",
          "shape": "linear",
          "width": 1
         },
         "marker": {
          "color": "rgba(227, 111, 71, 1.000)",
          "line": {
           "color": "rgba(0, 0, 0, 1.000)",
           "width": 1
          },
          "size": 6,
          "symbol": "circle"
         },
         "mode": "lines+markers",
         "name": "MUSCL2MOOD",
         "showlegend": true,
         "type": "scatter",
         "x": [
          42.42640687119285
         ],
         "xaxis": "x",
         "y": [
          1
         ],
         "yaxis": "y"
        },
        {
         "colorbar": {
          "len": 0.9104877515310585,
          "title": "",
          "x": 0.9950787401574802,
          "y": 0.505787037037037
         },
         "legendgroup": "MUSCL2",
         "line": {
          "color": "rgba(62, 164, 78, 1.000)",
          "dash": "solid",
          "shape": "linear",
          "width": 1
         },
         "marker": {
          "color": "rgba(62, 164, 78, 1.000)",
          "line": {
           "color": "rgba(0, 0, 0, 1.000)",
           "width": 1
          },
          "size": 6,
          "symbol": "circle"
         },
         "mode": "lines+markers",
         "name": "MUSCL2",
         "showlegend": true,
         "type": "scatter",
         "x": [
          42.42640687119285
         ],
         "xaxis": "x",
         "y": [
          1
         ],
         "yaxis": "y"
        },
        {
         "colorbar": {
          "len": 0.9104877515310585,
          "title": "",
          "x": 0.9950787401574802,
          "y": 0.505787037037037
         },
         "legendgroup": "RK3ClassicUpwind2",
         "line": {
          "color": "rgba(195, 113, 210, 1.000)",
          "dash": "solid",
          "shape": "linear",
          "width": 1
         },
         "marker": {
          "color": "rgba(195, 113, 210, 1.000)",
          "line": {
           "color": "rgba(0, 0, 0, 1.000)",
           "width": 1
          },
          "size": 6,
          "symbol": "circle"
         },
         "mode": "lines+markers",
         "name": "RK3ClassicUpwind2",
         "showlegend": true,
         "type": "scatter",
         "x": [
          42.42640687119285
         ],
         "xaxis": "x",
         "y": [
          1
         ],
         "yaxis": "y"
        },
        {
         "colorbar": {
          "len": 0.9104877515310585,
          "title": "",
          "x": 0.9950787401574802,
          "y": 0.505787037037037
         },
         "legendgroup": "RK3WENO",
         "line": {
          "color": "rgba(172, 142, 24, 1.000)",
          "dash": "solid",
          "shape": "linear",
          "width": 1
         },
         "marker": {
          "color": "rgba(172, 142, 24, 1.000)",
          "line": {
           "color": "rgba(0, 0, 0, 1.000)",
           "width": 1
          },
          "size": 6,
          "symbol": "circle"
         },
         "mode": "lines+markers",
         "name": "RK3WENO",
         "showlegend": true,
         "type": "scatter",
         "x": [
          42.42640687119285
         ],
         "xaxis": "x",
         "y": [
          1
         ],
         "yaxis": "y"
        }
       ],
       "layout": {
        "annotations": [
         {
          "font": {
           "color": "rgba(0, 0, 0, 1.000)",
           "family": "sans-serif",
           "size": 20
          },
          "rotation": 0,
          "showarrow": false,
          "text": "Nx: 100",
          "x": 0.5262152777777778,
          "xanchor": "center",
          "xref": "paper",
          "y": 1,
          "yanchor": "top",
          "yref": "paper"
         }
        ],
        "height": 600,
        "legend": {
         "bgcolor": "rgba(255, 255, 255, 1.000)",
         "bordercolor": "rgba(0, 0, 0, 1.000)",
         "borderwidth": 1,
         "font": {
          "color": "rgba(0, 0, 0, 1.000)",
          "family": "sans-serif",
          "size": 11
         },
         "title": {
          "font": {
           "color": "rgba(0, 0, 0, 1.000)",
           "family": "sans-serif",
           "size": 15
          },
          "text": ""
         },
         "tracegroupgap": 0,
         "traceorder": "normal",
         "x": 1,
         "xanchor": "right",
         "y": 1,
         "yanchor": "top"
        },
        "margin": {
         "b": 20,
         "l": 0,
         "r": 0,
         "t": 20
        },
        "paper_bgcolor": "rgba(255, 255, 255, 1.000)",
        "plot_bgcolor": "rgba(255, 255, 255, 1.000)",
        "showlegend": true,
        "width": 800,
        "xaxis": {
         "anchor": "y",
         "domain": [
          0.05735181539807524,
          0.9950787401574802
         ],
         "gridcolor": "rgba(0, 0, 0, 0.100)",
         "gridwidth": 0.5,
         "linecolor": "rgba(0, 0, 0, 1.000)",
         "mirror": false,
         "range": [
          42.39640687119285,
          43.456406871192854
         ],
         "showgrid": true,
         "showline": true,
         "showticklabels": true,
         "tickangle": 0,
         "tickcolor": "rgb(0, 0, 0)",
         "tickfont": {
          "color": "rgba(0, 0, 0, 1.000)",
          "family": "sans-serif",
          "size": 11
         },
         "tickmode": "array",
         "ticks": "inside",
         "ticktext": [
          "42.50",
          "42.75",
          "43.00",
          "43.25"
         ],
         "tickvals": [
          42.5,
          42.75,
          43,
          43.25
         ],
         "title": "Time",
         "titlefont": {
          "color": "rgba(0, 0, 0, 1.000)",
          "family": "sans-serif",
          "size": 15
         },
         "type": "-",
         "visible": true,
         "zeroline": false,
         "zerolinecolor": "rgba(0, 0, 0, 1.000)"
        },
        "yaxis": {
         "anchor": "x",
         "domain": [
          0.05054316127150776,
          0.9610309128025663
         ],
         "gridcolor": "rgba(0, 0, 0, 0.100)",
         "gridwidth": 0.5,
         "linecolor": "rgba(0, 0, 0, 1.000)",
         "mirror": false,
         "range": [
          0.75,
          1.4
         ],
         "showgrid": true,
         "showline": true,
         "showticklabels": true,
         "tickangle": 0,
         "tickcolor": "rgb(0, 0, 0)",
         "tickfont": {
          "color": "rgba(0, 0, 0, 1.000)",
          "family": "sans-serif",
          "size": 11
         },
         "tickmode": "array",
         "ticks": "inside",
         "ticktext": [
          "0.8",
          "0.9",
          "1.0",
          "1.1",
          "1.2",
          "1.3"
         ],
         "tickvals": [
          0.8,
          0.9,
          1,
          1.1,
          1.2000000000000002,
          1.3
         ],
         "title": "Normalised mass",
         "titlefont": {
          "color": "rgba(0, 0, 0, 1.000)",
          "family": "sans-serif",
          "size": 15
         },
         "type": "-",
         "visible": true,
         "zeroline": false,
         "zerolinecolor": "rgba(0, 0, 0, 1.000)"
        }
       }
      },
      "image/png": "[encoded data removed]",
      "image/svg+xml": [
       "<svg class=\"main-svg\" xmlns=\"http://www.w3.org/2000/svg\" xmlns:xlink=\"http://www.w3.org/1999/xlink\" width=\"700\" height=\"500\" style=\"\" viewBox=\"0 0 700 500\"><rect x=\"0\" y=\"0\" width=\"700\" height=\"500\" style=\"fill: rgb(255, 255, 255); fill-opacity: 1;\"/><defs id=\"defs-cb1002\"><g class=\"clips\"><clipPath id=\"clipcb1002xyplot\" class=\"plotclip\"><rect width=\"562.636154855643\" height=\"355.0902230971128\"/></clipPath><clipPath class=\"axesclip\" id=\"clipcb1002x\"><rect x=\"84.41108923884514\" y=\"0\" width=\"562.636154855643\" height=\"500\"/></clipPath><clipPath class=\"axesclip\" id=\"clipcb1002y\"><rect x=\"0\" y=\"75.19794400699917\" width=\"700\" height=\"355.0902230971128\"/></clipPath><clipPath class=\"axesclip\" id=\"clipcb1002xy\"><rect x=\"84.41108923884514\" y=\"75.19794400699917\" width=\"562.636154855643\" height=\"355.0902230971128\"/></clipPath></g><g class=\"gradients\"/></defs><g class=\"bglayer\"/><g class=\"layer-below\"><g class=\"imagelayer\"/><g class=\"shapelayer\"/></g><g class=\"cartesianlayer\"><g class=\"subplot xy\"><g class=\"layer-subplot\"><g class=\"shapelayer\"/><g class=\"imagelayer\"/></g><g class=\"gridlayer\"><g class=\"x\"><path class=\"xgrid crisp\" transform=\"translate(139.40108923884515,0)\" d=\"M0,75.19794400699917v355.0902230971128\" style=\"stroke: rgb(0, 0, 0); stroke-opacity: 0.1; stroke-width: 0.5px;\"/><path class=\"xgrid crisp\" transform=\"translate(272.09108923884514,0)\" d=\"M0,75.19794400699917v355.0902230971128\" style=\"stroke: rgb(0, 0, 0); stroke-opacity: 0.1; stroke-width: 0.5px;\"/><path class=\"xgrid crisp\" transform=\"translate(404.79108923884513,0)\" d=\"M0,75.19794400699917v355.0902230971128\" style=\"stroke: rgb(0, 0, 0); stroke-opacity: 0.1; stroke-width: 0.5px;\"/><path class=\"xgrid crisp\" transform=\"translate(537.4910892388451,0)\" d=\"M0,75.19794400699917v355.0902230971128\" style=\"stroke: rgb(0, 0, 0); stroke-opacity: 0.1; stroke-width: 0.5px;\"/></g><g class=\"y\"><path class=\"ygrid crisp\" transform=\"translate(0,402.9779440069991)\" d=\"M84.41108923884514,0h562.636154855643\" style=\"stroke: rgb(0, 0, 0); stroke-opacity: 0.1; stroke-width: 0.5px;\"/><path class=\"ygrid crisp\" transform=\"translate(0,348.3479440069991)\" d=\"M84.41108923884514,0h562.636154855643\" style=\"stroke: rgb(0, 0, 0); stroke-opacity: 0.1; stroke-width: 0.5px;\"/><path class=\"ygrid crisp\" transform=\"translate(0,293.7179440069992)\" d=\"M84.41108923884514,0h562.636154855643\" style=\"stroke: rgb(0, 0, 0); stroke-opacity: 0.1; stroke-width: 0.5px;\"/><path class=\"ygrid crisp\" transform=\"translate(0,239.08794400699915)\" d=\"M84.41108923884514,0h562.636154855643\" style=\"stroke: rgb(0, 0, 0); stroke-opacity: 0.1; stroke-width: 0.5px;\"/><path class=\"ygrid crisp\" transform=\"translate(0,184.45794400699918)\" d=\"M84.41108923884514,0h562.636154855643\" style=\"stroke: rgb(0, 0, 0); stroke-opacity: 0.1; stroke-width: 0.5px;\"/><path class=\"ygrid crisp\" transform=\"translate(0,129.82794400699916)\" d=\"M84.41108923884514,0h562.636154855643\" style=\"stroke: rgb(0, 0, 0); stroke-opacity: 0.1; stroke-width: 0.5px;\"/></g></g><g class=\"zerolinelayer\"/><path class=\"xlines-below\"/><path class=\"ylines-below\"/><g class=\"overlines-below\"/><g class=\"xaxislayer-below\"/><g class=\"yaxislayer-below\"/><g class=\"overaxes-below\"/><g class=\"plot\" transform=\"translate(84.41108923884514,75.19794400699917)\" clip-path=\"url('#clipcb1002xyplot')\"><g class=\"scatterlayer mlayer\"><g class=\"trace scatter trace1b941a\" style=\"stroke-miterlimit: 2; opacity: 1;\"><g class=\"fills\"/><g class=\"errorbars\"/><g class=\"lines\"/><g class=\"points\"><path class=\"point\" transform=\"translate(15.92,218.52)\" d=\"M3,0A3,3 0 1,1 0,-3A3,3 0 0,1 3,0Z\" style=\"opacity: 1; stroke-width: 1px; fill: rgb(0, 154, 250); fill-opacity: 1; stroke: rgb(0, 0, 0); stroke-opacity: 1;\"/></g><g class=\"text\"/></g><g class=\"trace scatter trace4aed67\" style=\"stroke-miterlimit: 2; opacity: 1;\"><g class=\"fills\"/><g class=\"errorbars\"/><g class=\"lines\"/><g class=\"points\"><path class=\"point\" transform=\"translate(15.92,218.52)\" d=\"M3,0A3,3 0 1,1 0,-3A3,3 0 0,1 3,0Z\" style=\"opacity: 1; stroke-width: 1px; fill: rgb(227, 111, 71); fill-opacity: 1; stroke: rgb(0, 0, 0); stroke-opacity: 1;\"/></g><g class=\"text\"/></g><g class=\"trace scatter traceb7efd5\" style=\"stroke-miterlimit: 2; opacity: 1;\"><g class=\"fills\"/><g class=\"errorbars\"/><g class=\"lines\"/><g class=\"points\"><path class=\"point\" transform=\"translate(15.92,218.52)\" d=\"M3,0A3,3 0 1,1 0,-3A3,3 0 0,1 3,0Z\" style=\"opacity: 1; stroke-width: 1px; fill: rgb(62, 164, 78); fill-opacity: 1; stroke: rgb(0, 0, 0); stroke-opacity: 1;\"/></g><g class=\"text\"/></g><g class=\"trace scatter trace38ccda\" style=\"stroke-miterlimit: 2; opacity: 1;\"><g class=\"fills\"/><g class=\"errorbars\"/><g class=\"lines\"/><g class=\"points\"><path class=\"point\" transform=\"translate(15.92,218.52)\" d=\"M3,0A3,3 0 1,1 0,-3A3,3 0 0,1 3,0Z\" style=\"opacity: 1; stroke-width: 1px; fill: rgb(195, 113, 210); fill-opacity: 1; stroke: rgb(0, 0, 0); stroke-opacity: 1;\"/></g><g class=\"text\"/></g><g class=\"trace scatter trace7f1b82\" style=\"stroke-miterlimit: 2; opacity: 1;\"><g class=\"fills\"/><g class=\"errorbars\"/><g class=\"lines\"/><g class=\"points\"><path class=\"point\" transform=\"translate(15.92,218.52)\" d=\"M3,0A3,3 0 1,1 0,-3A3,3 0 0,1 3,0Z\" style=\"opacity: 1; stroke-width: 1px; fill: rgb(172, 142, 24); fill-opacity: 1; stroke: rgb(0, 0, 0); stroke-opacity: 1;\"/></g><g class=\"text\"/></g></g></g><g class=\"overplot\"/><path class=\"xlines-above crisp\" d=\"M83.41108923884514,430.78816710411195H647.0472440944882\" style=\"fill: none; stroke-width: 1px; stroke: rgb(0, 0, 0); stroke-opacity: 1;\"/><path class=\"ylines-above crisp\" d=\"M83.91108923884514,75.19794400699917V430.28816710411195\" style=\"fill: none; stroke-width: 1px; stroke: rgb(0, 0, 0); stroke-opacity: 1;\"/><g class=\"overlines-above\"/><g class=\"xaxislayer-above\"><path class=\"xtick ticks crisp\" d=\"M0,430.28816710411195v-5\" transform=\"translate(139.40108923884515,0)\" style=\"stroke: rgb(0, 0, 0); stroke-opacity: 1; stroke-width: 1px;\"/><path class=\"xtick ticks crisp\" d=\"M0,430.28816710411195v-5\" transform=\"translate(272.09108923884514,0)\" style=\"stroke: rgb(0, 0, 0); stroke-opacity: 1; stroke-width: 1px;\"/><path class=\"xtick ticks crisp\" d=\"M0,430.28816710411195v-5\" transform=\"translate(404.79108923884513,0)\" style=\"stroke: rgb(0, 0, 0); stroke-opacity: 1; stroke-width: 1px;\"/><path class=\"xtick ticks crisp\" d=\"M0,430.28816710411195v-5\" transform=\"translate(537.4910892388451,0)\" style=\"stroke: rgb(0, 0, 0); stroke-opacity: 1; stroke-width: 1px;\"/><g class=\"xtick\"><text text-anchor=\"middle\" x=\"0\" y=\"444.48816710411194\" transform=\"translate(139.40108923884515,0)\" style=\"font-family: sans-serif; font-size: 11px; fill: rgb(0, 0, 0); fill-opacity: 1; white-space: pre;\">42.50</text></g><g class=\"xtick\"><text text-anchor=\"middle\" x=\"0\" y=\"444.48816710411194\" transform=\"translate(272.09108923884514,0)\" style=\"font-family: sans-serif; font-size: 11px; fill: rgb(0, 0, 0); fill-opacity: 1; white-space: pre;\">42.75</text></g><g class=\"xtick\"><text text-anchor=\"middle\" x=\"0\" y=\"444.48816710411194\" transform=\"translate(404.79108923884513,0)\" style=\"font-family: sans-serif; font-size: 11px; fill: rgb(0, 0, 0); fill-opacity: 1; white-space: pre;\">43.00</text></g><g class=\"xtick\"><text text-anchor=\"middle\" x=\"0\" y=\"444.48816710411194\" transform=\"translate(537.4910892388451,0)\" style=\"font-family: sans-serif; font-size: 11px; fill: rgb(0, 0, 0); fill-opacity: 1; white-space: pre;\">43.25</text></g></g><g class=\"yaxislayer-above\"><path class=\"ytick ticks crisp\" d=\"M84.41108923884514,0h5\" transform=\"translate(0,402.9779440069991)\" style=\"stroke: rgb(0, 0, 0); stroke-opacity: 1; stroke-width: 1px;\"/><path class=\"ytick ticks crisp\" d=\"M84.41108923884514,0h5\" transform=\"translate(0,348.3479440069991)\" style=\"stroke: rgb(0, 0, 0); stroke-opacity: 1; stroke-width: 1px;\"/><path class=\"ytick ticks crisp\" d=\"M84.41108923884514,0h5\" transform=\"translate(0,293.7179440069992)\" style=\"stroke: rgb(0, 0, 0); stroke-opacity: 1; stroke-width: 1px;\"/><path class=\"ytick ticks crisp\" d=\"M84.41108923884514,0h5\" transform=\"translate(0,239.08794400699915)\" style=\"stroke: rgb(0, 0, 0); stroke-opacity: 1; stroke-width: 1px;\"/><path class=\"ytick ticks crisp\" d=\"M84.41108923884514,0h5\" transform=\"translate(0,184.45794400699918)\" style=\"stroke: rgb(0, 0, 0); stroke-opacity: 1; stroke-width: 1px;\"/><path class=\"ytick ticks crisp\" d=\"M84.41108923884514,0h5\" transform=\"translate(0,129.82794400699916)\" style=\"stroke: rgb(0, 0, 0); stroke-opacity: 1; stroke-width: 1px;\"/><g class=\"ytick\"><text text-anchor=\"end\" x=\"81.21108923884513\" y=\"3.8499999999999996\" transform=\"translate(0,402.9779440069991)\" style=\"font-family: sans-serif; font-size: 11px; fill: rgb(0, 0, 0); fill-opacity: 1; white-space: pre;\">0.8</text></g><g class=\"ytick\"><text text-anchor=\"end\" x=\"81.21108923884513\" y=\"3.8499999999999996\" transform=\"translate(0,348.3479440069991)\" style=\"font-family: sans-serif; font-size: 11px; fill: rgb(0, 0, 0); fill-opacity: 1; white-space: pre;\">0.9</text></g><g class=\"ytick\"><text text-anchor=\"end\" x=\"81.21108923884513\" y=\"3.8499999999999996\" transform=\"translate(0,293.7179440069992)\" style=\"font-family: sans-serif; font-size: 11px; fill: rgb(0, 0, 0); fill-opacity: 1; white-space: pre;\">1.0</text></g><g class=\"ytick\"><text text-anchor=\"end\" x=\"81.21108923884513\" y=\"3.8499999999999996\" transform=\"translate(0,239.08794400699915)\" style=\"font-family: sans-serif; font-size: 11px; fill: rgb(0, 0, 0); fill-opacity: 1; white-space: pre;\">1.1</text></g><g class=\"ytick\"><text text-anchor=\"end\" x=\"81.21108923884513\" y=\"3.8499999999999996\" transform=\"translate(0,184.45794400699918)\" style=\"font-family: sans-serif; font-size: 11px; fill: rgb(0, 0, 0); fill-opacity: 1; white-space: pre;\">1.2</text></g><g class=\"ytick\"><text text-anchor=\"end\" x=\"81.21108923884513\" y=\"3.8499999999999996\" transform=\"translate(0,129.82794400699916)\" style=\"font-family: sans-serif; font-size: 11px; fill: rgb(0, 0, 0); fill-opacity: 1; white-space: pre;\">1.3</text></g></g><g class=\"overaxes-above\"/></g></g><g class=\"polarlayer\"/><g class=\"ternarylayer\"/><g class=\"geolayer\"/><g class=\"funnelarealayer\"/><g class=\"pielayer\"/><g class=\"treemaplayer\"/><g class=\"sunburstlayer\"/><g class=\"glimages\"/><defs id=\"topdefs-cb1002\"><g class=\"clips\"/><clipPath id=\"legendcb1002\"><rect width=\"145\" height=\"105\" x=\"1\" y=\"1\"/></clipPath></defs><g class=\"layer-above\"><g class=\"imagelayer\"/><g class=\"shapelayer\"/></g><g class=\"infolayer\"><g class=\"legend\" pointer-events=\"all\" transform=\"translate(503,60)\"><rect class=\"bg\" shape-rendering=\"crispEdges\" style=\"stroke: rgb(0, 0, 0); stroke-opacity: 1; fill: rgb(255, 255, 255); fill-opacity: 1; stroke-width: 1px;\" width=\"146\" height=\"106\" x=\"0.5\" y=\"0.5\"/><g class=\"scrollbox\" transform=\"\" clip-path=\"url('#legendcb1002')\"><g class=\"groups\"><g class=\"traces\" transform=\"translate(1,15.5)\" style=\"opacity: 1;\"><text class=\"legendtext\" text-anchor=\"start\" x=\"40\" y=\"4.29\" style=\"font-family: sans-serif; font-size: 11px; fill: rgb(0, 0, 0); fill-opacity: 1; white-space: pre;\">DumbserWENO</text><g class=\"layers\" style=\"opacity: 1;\"><g class=\"legendfill\"/><g class=\"legendlines\"><path class=\"js-line\" d=\"M5,0h30\" style=\"fill: none; stroke: rgb(0, 154, 250); stroke-opacity: 1; stroke-width: 1px;\"/></g><g class=\"legendsymbols\"><g class=\"legendpoints\"><path class=\"scatterpts\" transform=\"translate(20,0)\" d=\"M3,0A3,3 0 1,1 0,-3A3,3 0 0,1 3,0Z\" style=\"opacity: 1; stroke-width: 1px; fill: rgb(0, 154, 250); fill-opacity: 1; stroke: rgb(0, 0, 0); stroke-opacity: 1;\"/></g></g></g><rect class=\"legendtoggle\" x=\"0\" y=\"-9.5\" width=\"139.65625\" height=\"19\" style=\"fill: rgb(0, 0, 0); fill-opacity: 0;\"/></g><g class=\"traces\" transform=\"translate(1,34.5)\" style=\"opacity: 1;\"><text class=\"legendtext\" text-anchor=\"start\" x=\"40\" y=\"4.29\" style=\"font-family: sans-serif; font-size: 11px; fill: rgb(0, 0, 0); fill-opacity: 1; white-space: pre;\">MUSCL2MOOD</text><g class=\"layers\" style=\"opacity: 1;\"><g class=\"legendfill\"/><g class=\"legendlines\"><path class=\"js-line\" d=\"M5,0h30\" style=\"fill: none; stroke: rgb(227, 111, 71); stroke-opacity: 1; stroke-width: 1px;\"/></g><g class=\"legendsymbols\"><g class=\"legendpoints\"><path class=\"scatterpts\" transform=\"translate(20,0)\" d=\"M3,0A3,3 0 1,1 0,-3A3,3 0 0,1 3,0Z\" style=\"opacity: 1; stroke-width: 1px; fill: rgb(227, 111, 71); fill-opacity: 1; stroke: rgb(0, 0, 0); stroke-opacity: 1;\"/></g></g></g><rect class=\"legendtoggle\" x=\"0\" y=\"-9.5\" width=\"139.65625\" height=\"19\" style=\"fill: rgb(0, 0, 0); fill-opacity: 0;\"/></g><g class=\"traces\" transform=\"translate(1,53.5)\" style=\"opacity: 1;\"><text class=\"legendtext\" text-anchor=\"start\" x=\"40\" y=\"4.29\" style=\"font-family: sans-serif; font-size: 11px; fill: rgb(0, 0, 0); fill-opacity: 1; white-space: pre;\">MUSCL2</text><g class=\"layers\" style=\"opacity: 1;\"><g class=\"legendfill\"/><g class=\"legendlines\"><path class=\"js-line\" d=\"M5,0h30\" style=\"fill: none; stroke: rgb(62, 164, 78); stroke-opacity: 1; stroke-width: 1px;\"/></g><g class=\"legendsymbols\"><g class=\"legendpoints\"><path class=\"scatterpts\" transform=\"translate(20,0)\" d=\"M3,0A3,3 0 1,1 0,-3A3,3 0 0,1 3,0Z\" style=\"opacity: 1; stroke-width: 1px; fill: rgb(62, 164, 78); fill-opacity: 1; stroke: rgb(0, 0, 0); stroke-opacity: 1;\"/></g></g></g><rect class=\"legendtoggle\" x=\"0\" y=\"-9.5\" width=\"139.65625\" height=\"19\" style=\"fill: rgb(0, 0, 0); fill-opacity: 0;\"/></g><g class=\"traces\" transform=\"translate(1,72.5)\" style=\"opacity: 1;\"><text class=\"legendtext\" text-anchor=\"start\" x=\"40\" y=\"4.29\" style=\"font-family: sans-serif; font-size: 11px; fill: rgb(0, 0, 0); fill-opacity: 1; white-space: pre;\">RK3ClassicUpwind2</text><g class=\"layers\" style=\"opacity: 1;\"><g class=\"legendfill\"/><g class=\"legendlines\"><path class=\"js-line\" d=\"M5,0h30\" style=\"fill: none; stroke: rgb(195, 113, 210); stroke-opacity: 1; stroke-width: 1px;\"/></g><g class=\"legendsymbols\"><g class=\"legendpoints\"><path class=\"scatterpts\" transform=\"translate(20,0)\" d=\"M3,0A3,3 0 1,1 0,-3A3,3 0 0,1 3,0Z\" style=\"opacity: 1; stroke-width: 1px; fill: rgb(195, 113, 210); fill-opacity: 1; stroke: rgb(0, 0, 0); stroke-opacity: 1;\"/></g></g></g><rect class=\"legendtoggle\" x=\"0\" y=\"-9.5\" width=\"139.65625\" height=\"19\" style=\"fill: rgb(0, 0, 0); fill-opacity: 0;\"/></g><g class=\"traces\" transform=\"translate(1,91.5)\" style=\"opacity: 1;\"><text class=\"legendtext\" text-anchor=\"start\" x=\"40\" y=\"4.29\" style=\"font-family: sans-serif; font-size: 11px; fill: rgb(0, 0, 0); fill-opacity: 1; white-space: pre;\">RK3WENO</text><g class=\"layers\" style=\"opacity: 1;\"><g class=\"legendfill\"/><g class=\"legendlines\"><path class=\"js-line\" d=\"M5,0h30\" style=\"fill: none; stroke: rgb(172, 142, 24); stroke-opacity: 1; stroke-width: 1px;\"/></g><g class=\"legendsymbols\"><g class=\"legendpoints\"><path class=\"scatterpts\" transform=\"translate(20,0)\" d=\"M3,0A3,3 0 1,1 0,-3A3,3 0 0,1 3,0Z\" style=\"opacity: 1; stroke-width: 1px; fill: rgb(172, 142, 24); fill-opacity: 1; stroke: rgb(0, 0, 0); stroke-opacity: 1;\"/></g></g></g><rect class=\"legendtoggle\" x=\"0\" y=\"-9.5\" width=\"139.65625\" height=\"19\" style=\"fill: rgb(0, 0, 0); fill-opacity: 0;\"/></g></g></g><rect class=\"scrollbar\" rx=\"20\" ry=\"3\" width=\"0\" height=\"0\" style=\"fill: rgb(128, 139, 164); fill-opacity: 1;\" x=\"0\" y=\"0\"/></g><g class=\"g-gtitle\"/><g class=\"g-xtitle\"><text class=\"xtitle\" x=\"365.72916666666663\" y=\"472\" text-anchor=\"middle\" style=\"font-family: sans-serif; font-size: 15px; fill: rgb(0, 0, 0); opacity: 1; font-weight: normal; white-space: pre;\">Time</text></g><g class=\"g-ytitle\"><text class=\"ytitle\" transform=\"rotate(-90,40.40625,252.74305555555557)\" x=\"40.40625\" y=\"252.74305555555557\" text-anchor=\"middle\" style=\"font-family: sans-serif; font-size: 15px; fill: rgb(0, 0, 0); opacity: 1; font-weight: normal; white-space: pre;\">Normalised mass</text></g><g class=\"annotation\" data-index=\"0\" style=\"opacity: 1;\"><g class=\"annotation-text-g\" transform=\"rotate(0,365.7291666666667,73)\"><g class=\"cursor-pointer\" transform=\"translate(329,60)\"><rect class=\"bg\" x=\"0.5\" y=\"0.5\" width=\"72\" height=\"25\" style=\"stroke-width: 1px; stroke: rgb(0, 0, 0); stroke-opacity: 0; fill: rgb(0, 0, 0); fill-opacity: 0;\"/><text class=\"annotation-text\" text-anchor=\"middle\" x=\"36.46875\" y=\"20\" style=\"font-family: sans-serif; font-size: 20px; fill: rgb(0, 0, 0); fill-opacity: 1; white-space: pre;\">Nx: 100</text></g></g></g></g></svg>"
      ],
      "text/html": [
       "<script src=\"https://cdn.plot.ly/plotly-2.6.3.min.js\"></script>    <div id=\"b2d81ccb-a1d2-4929-a172-4d137085b298\" style=\"width:800px;height:600px;\"></div>\n",
       "    <script>\n",
       "    \n",
       "    Plotly.newPlot('b2d81ccb-a1d2-4929-a172-4d137085b298', [\n",
       "    {\n",
       "        \"showlegend\": true,\n",
       "        \"mode\": \"lines+markers\",\n",
       "        \"xaxis\": \"x\",\n",
       "        \"colorbar\": {\n",
       "            \"y\": 0.505787037037037,\n",
       "            \"title\": \"\",\n",
       "            \"len\": 0.9104877515310585,\n",
       "            \"x\": 0.9950787401574802\n",
       "        },\n",
       "        \"name\": \"DumbserWENO\",\n",
       "        \"yaxis\": \"y\",\n",
       "        \"legendgroup\": \"DumbserWENO\",\n",
       "        \"marker\": {\n",
       "            \"symbol\": \"circle\",\n",
       "            \"color\": \"rgba(0, 154, 250, 1.000)\",\n",
       "            \"line\": {\n",
       "                \"color\": \"rgba(0, 0, 0, 1.000)\",\n",
       "                \"width\": 1\n",
       "            },\n",
       "            \"size\": 6\n",
       "        },\n",
       "        \"line\": {\n",
       "            \"color\": \"rgba(0, 154, 250, 1.000)\",\n",
       "            \"shape\": \"linear\",\n",
       "            \"dash\": \"solid\",\n",
       "            \"width\": 1\n",
       "        },\n",
       "        \"y\": [\n",
       "            1.0\n",
       "        ],\n",
       "        \"type\": \"scatter\",\n",
       "        \"x\": [\n",
       "            42.42640687119285\n",
       "        ]\n",
       "    },\n",
       "    {\n",
       "        \"showlegend\": true,\n",
       "        \"mode\": \"lines+markers\",\n",
       "        \"xaxis\": \"x\",\n",
       "        \"colorbar\": {\n",
       "            \"y\": 0.505787037037037,\n",
       "            \"title\": \"\",\n",
       "            \"len\": 0.9104877515310585,\n",
       "            \"x\": 0.9950787401574802\n",
       "        },\n",
       "        \"name\": \"MUSCL2MOOD\",\n",
       "        \"yaxis\": \"y\",\n",
       "        \"legendgroup\": \"MUSCL2MOOD\",\n",
       "        \"marker\": {\n",
       "            \"symbol\": \"circle\",\n",
       "            \"color\": \"rgba(227, 111, 71, 1.000)\",\n",
       "            \"line\": {\n",
       "                \"color\": \"rgba(0, 0, 0, 1.000)\",\n",
       "                \"width\": 1\n",
       "            },\n",
       "            \"size\": 6\n",
       "        },\n",
       "        \"line\": {\n",
       "            \"color\": \"rgba(227, 111, 71, 1.000)\",\n",
       "            \"shape\": \"linear\",\n",
       "            \"dash\": \"solid\",\n",
       "            \"width\": 1\n",
       "        },\n",
       "        \"y\": [\n",
       "            1.0\n",
       "        ],\n",
       "        \"type\": \"scatter\",\n",
       "        \"x\": [\n",
       "            42.42640687119285\n",
       "        ]\n",
       "    },\n",
       "    {\n",
       "        \"showlegend\": true,\n",
       "        \"mode\": \"lines+markers\",\n",
       "        \"xaxis\": \"x\",\n",
       "        \"colorbar\": {\n",
       "            \"y\": 0.505787037037037,\n",
       "            \"title\": \"\",\n",
       "            \"len\": 0.9104877515310585,\n",
       "            \"x\": 0.9950787401574802\n",
       "        },\n",
       "        \"name\": \"MUSCL2\",\n",
       "        \"yaxis\": \"y\",\n",
       "        \"legendgroup\": \"MUSCL2\",\n",
       "        \"marker\": {\n",
       "            \"symbol\": \"circle\",\n",
       "            \"color\": \"rgba(62, 164, 78, 1.000)\",\n",
       "            \"line\": {\n",
       "                \"color\": \"rgba(0, 0, 0, 1.000)\",\n",
       "                \"width\": 1\n",
       "            },\n",
       "            \"size\": 6\n",
       "        },\n",
       "        \"line\": {\n",
       "            \"color\": \"rgba(62, 164, 78, 1.000)\",\n",
       "            \"shape\": \"linear\",\n",
       "            \"dash\": \"solid\",\n",
       "            \"width\": 1\n",
       "        },\n",
       "        \"y\": [\n",
       "            1.0\n",
       "        ],\n",
       "        \"type\": \"scatter\",\n",
       "        \"x\": [\n",
       "            42.42640687119285\n",
       "        ]\n",
       "    },\n",
       "    {\n",
       "        \"showlegend\": true,\n",
       "        \"mode\": \"lines+markers\",\n",
       "        \"xaxis\": \"x\",\n",
       "        \"colorbar\": {\n",
       "            \"y\": 0.505787037037037,\n",
       "            \"title\": \"\",\n",
       "            \"len\": 0.9104877515310585,\n",
       "            \"x\": 0.9950787401574802\n",
       "        },\n",
       "        \"name\": \"RK3ClassicUpwind2\",\n",
       "        \"yaxis\": \"y\",\n",
       "        \"legendgroup\": \"RK3ClassicUpwind2\",\n",
       "        \"marker\": {\n",
       "            \"symbol\": \"circle\",\n",
       "            \"color\": \"rgba(195, 113, 210, 1.000)\",\n",
       "            \"line\": {\n",
       "                \"color\": \"rgba(0, 0, 0, 1.000)\",\n",
       "                \"width\": 1\n",
       "            },\n",
       "            \"size\": 6\n",
       "        },\n",
       "        \"line\": {\n",
       "            \"color\": \"rgba(195, 113, 210, 1.000)\",\n",
       "            \"shape\": \"linear\",\n",
       "            \"dash\": \"solid\",\n",
       "            \"width\": 1\n",
       "        },\n",
       "        \"y\": [\n",
       "            1.0\n",
       "        ],\n",
       "        \"type\": \"scatter\",\n",
       "        \"x\": [\n",
       "            42.42640687119285\n",
       "        ]\n",
       "    },\n",
       "    {\n",
       "        \"showlegend\": true,\n",
       "        \"mode\": \"lines+markers\",\n",
       "        \"xaxis\": \"x\",\n",
       "        \"colorbar\": {\n",
       "            \"y\": 0.505787037037037,\n",
       "            \"title\": \"\",\n",
       "            \"len\": 0.9104877515310585,\n",
       "            \"x\": 0.9950787401574802\n",
       "        },\n",
       "        \"name\": \"RK3WENO\",\n",
       "        \"yaxis\": \"y\",\n",
       "        \"legendgroup\": \"RK3WENO\",\n",
       "        \"marker\": {\n",
       "            \"symbol\": \"circle\",\n",
       "            \"color\": \"rgba(172, 142, 24, 1.000)\",\n",
       "            \"line\": {\n",
       "                \"color\": \"rgba(0, 0, 0, 1.000)\",\n",
       "                \"width\": 1\n",
       "            },\n",
       "            \"size\": 6\n",
       "        },\n",
       "        \"line\": {\n",
       "            \"color\": \"rgba(172, 142, 24, 1.000)\",\n",
       "            \"shape\": \"linear\",\n",
       "            \"dash\": \"solid\",\n",
       "            \"width\": 1\n",
       "        },\n",
       "        \"y\": [\n",
       "            1.0\n",
       "        ],\n",
       "        \"type\": \"scatter\",\n",
       "        \"x\": [\n",
       "            42.42640687119285\n",
       "        ]\n",
       "    }\n",
       "]\n",
       ", {\n",
       "    \"showlegend\": true,\n",
       "    \"xaxis\": {\n",
       "        \"showticklabels\": true,\n",
       "        \"gridwidth\": 0.5,\n",
       "        \"tickvals\": [\n",
       "            42.5,\n",
       "            42.75,\n",
       "            43.0,\n",
       "            43.25\n",
       "        ],\n",
       "        \"range\": [\n",
       "            42.39640687119285,\n",
       "            43.456406871192854\n",
       "        ],\n",
       "        \"domain\": [\n",
       "            0.05735181539807524,\n",
       "            0.9950787401574802\n",
       "        ],\n",
       "        \"mirror\": false,\n",
       "        \"tickangle\": 0,\n",
       "        \"showline\": true,\n",
       "        \"ticktext\": [\n",
       "            \"42.50\",\n",
       "            \"42.75\",\n",
       "            \"43.00\",\n",
       "            \"43.25\"\n",
       "        ],\n",
       "        \"zeroline\": false,\n",
       "        \"tickfont\": {\n",
       "            \"color\": \"rgba(0, 0, 0, 1.000)\",\n",
       "            \"family\": \"sans-serif\",\n",
       "            \"size\": 11\n",
       "        },\n",
       "        \"zerolinecolor\": \"rgba(0, 0, 0, 1.000)\",\n",
       "        \"anchor\": \"y\",\n",
       "        \"visible\": true,\n",
       "        \"ticks\": \"inside\",\n",
       "        \"tickmode\": \"array\",\n",
       "        \"linecolor\": \"rgba(0, 0, 0, 1.000)\",\n",
       "        \"showgrid\": true,\n",
       "        \"title\": \"Time\",\n",
       "        \"gridcolor\": \"rgba(0, 0, 0, 0.100)\",\n",
       "        \"titlefont\": {\n",
       "            \"color\": \"rgba(0, 0, 0, 1.000)\",\n",
       "            \"family\": \"sans-serif\",\n",
       "            \"size\": 15\n",
       "        },\n",
       "        \"tickcolor\": \"rgb(0, 0, 0)\",\n",
       "        \"type\": \"-\"\n",
       "    },\n",
       "    \"paper_bgcolor\": \"rgba(255, 255, 255, 1.000)\",\n",
       "    \"annotations\": [\n",
       "        {\n",
       "            \"yanchor\": \"top\",\n",
       "            \"xanchor\": \"center\",\n",
       "            \"rotation\": -0.0,\n",
       "            \"y\": 1.0,\n",
       "            \"font\": {\n",
       "                \"color\": \"rgba(0, 0, 0, 1.000)\",\n",
       "                \"family\": \"sans-serif\",\n",
       "                \"size\": 20\n",
       "            },\n",
       "            \"yref\": \"paper\",\n",
       "            \"showarrow\": false,\n",
       "            \"text\": \"Nx: 100\",\n",
       "            \"xref\": \"paper\",\n",
       "            \"x\": 0.5262152777777778\n",
       "        }\n",
       "    ],\n",
       "    \"height\": 600,\n",
       "    \"margin\": {\n",
       "        \"l\": 0,\n",
       "        \"b\": 20,\n",
       "        \"r\": 0,\n",
       "        \"t\": 20\n",
       "    },\n",
       "    \"plot_bgcolor\": \"rgba(255, 255, 255, 1.000)\",\n",
       "    \"yaxis\": {\n",
       "        \"showticklabels\": true,\n",
       "        \"gridwidth\": 0.5,\n",
       "        \"tickvals\": [\n",
       "            0.8,\n",
       "            0.9,\n",
       "            1.0,\n",
       "            1.1,\n",
       "            1.2000000000000002,\n",
       "            1.3\n",
       "        ],\n",
       "        \"range\": [\n",
       "            0.75,\n",
       "            1.4\n",
       "        ],\n",
       "        \"domain\": [\n",
       "            0.05054316127150776,\n",
       "            0.9610309128025663\n",
       "        ],\n",
       "        \"mirror\": false,\n",
       "        \"tickangle\": 0,\n",
       "        \"showline\": true,\n",
       "        \"ticktext\": [\n",
       "            \"0.8\",\n",
       "            \"0.9\",\n",
       "            \"1.0\",\n",
       "            \"1.1\",\n",
       "            \"1.2\",\n",
       "            \"1.3\"\n",
       "        ],\n",
       "        \"zeroline\": false,\n",
       "        \"tickfont\": {\n",
       "            \"color\": \"rgba(0, 0, 0, 1.000)\",\n",
       "            \"family\": \"sans-serif\",\n",
       "            \"size\": 11\n",
       "        },\n",
       "        \"zerolinecolor\": \"rgba(0, 0, 0, 1.000)\",\n",
       "        \"anchor\": \"x\",\n",
       "        \"visible\": true,\n",
       "        \"ticks\": \"inside\",\n",
       "        \"tickmode\": \"array\",\n",
       "        \"linecolor\": \"rgba(0, 0, 0, 1.000)\",\n",
       "        \"showgrid\": true,\n",
       "        \"title\": \"Normalised mass\",\n",
       "        \"gridcolor\": \"rgba(0, 0, 0, 0.100)\",\n",
       "        \"titlefont\": {\n",
       "            \"color\": \"rgba(0, 0, 0, 1.000)\",\n",
       "            \"family\": \"sans-serif\",\n",
       "            \"size\": 15\n",
       "        },\n",
       "        \"tickcolor\": \"rgb(0, 0, 0)\",\n",
       "        \"type\": \"-\"\n",
       "    },\n",
       "    \"legend\": {\n",
       "        \"yanchor\": \"top\",\n",
       "        \"xanchor\": \"right\",\n",
       "        \"bordercolor\": \"rgba(0, 0, 0, 1.000)\",\n",
       "        \"bgcolor\": \"rgba(255, 255, 255, 1.000)\",\n",
       "        \"borderwidth\": 1,\n",
       "        \"tracegroupgap\": 0,\n",
       "        \"y\": 1.0,\n",
       "        \"font\": {\n",
       "            \"color\": \"rgba(0, 0, 0, 1.000)\",\n",
       "            \"family\": \"sans-serif\",\n",
       "            \"size\": 11\n",
       "        },\n",
       "        \"title\": {\n",
       "            \"font\": {\n",
       "                \"color\": \"rgba(0, 0, 0, 1.000)\",\n",
       "                \"family\": \"sans-serif\",\n",
       "                \"size\": 15\n",
       "            },\n",
       "            \"text\": \"\"\n",
       "        },\n",
       "        \"traceorder\": \"normal\",\n",
       "        \"x\": 1.0\n",
       "    },\n",
       "    \"width\": 800\n",
       "}\n",
       ");\n",
       "    \n",
       "    </script>\n"
      ]
     },
     "metadata": {},
     "output_type": "display_data"
    }
   ],
   "source": [
    "ms = 3\n",
    "p1 = plot(D70[algList70[1]][:, 1], D70[algList70[1]][:, 2], xlabel=\"Time\", ylabel=\"Normalised mass\", ylim=(0.75, 1.4), label=algList70[1], markershape=:circle, size=(800, 600), legend=:topright, ms=ms, title=\"Nx: $(100)\")\n",
    "for (j, algStr) in enumerate(algList70)\n",
    "    if algStr != algList70[1]\n",
    "        plot!(p1, D70[algStr][:, 1], D70[algStr][:, 2], label=algList70[j], markershape=:circle, ms=ms)\n",
    "    end\n",
    "end\n",
    "display(p1)"
   ]
  }
 ],
 "metadata": {
  "kernelspec": {
   "display_name": "Julia 1.10.4",
   "language": "julia",
   "name": "julia-1.10"
  },
  "language_info": {
   "file_extension": ".jl",
   "mimetype": "application/julia",
   "name": "julia",
   "version": "1.10.4"
  }
 },
 "nbformat": 4,
 "nbformat_minor": 2
}
