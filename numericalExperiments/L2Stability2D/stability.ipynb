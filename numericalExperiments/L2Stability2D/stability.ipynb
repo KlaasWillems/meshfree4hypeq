{
 "cells": [
  {
   "cell_type": "code",
   "execution_count": 12,
   "metadata": {},
   "outputs": [],
   "source": [
    "using JLD2\n",
    "using FileIO\n",
    "using DataFrames"
   ]
  },
  {
   "cell_type": "code",
   "execution_count": 13,
   "metadata": {},
   "outputs": [],
   "source": [
    "eigenvalueStability = load(\"$(@__DIR__)/data/eigenvalueStability.jld2\");\n",
    "simulationStability = load(\"$(@__DIR__)/data/simulationStability.jld2\");"
   ]
  },
  {
   "cell_type": "code",
   "execution_count": 14,
   "metadata": {},
   "outputs": [
    {
     "data": {
      "text/plain": [
       "Dict{String, Any} with 2 entries:\n",
       "  \"labels\"  => [\"SS WENO 2\", \"SS Upwind Classic 2\", \"SS MUSCL 1\", \"SS MUSCL 2\",…\n",
       "  \"results\" => Bool[0 1 … 1 0; 1 1 … 1 0; … ; 1 1 … 1 0; 0 1 … 1 0]"
      ]
     },
     "metadata": {},
     "output_type": "display_data"
    }
   ],
   "source": [
    "simulationStability"
   ]
  },
  {
   "cell_type": "code",
   "execution_count": 15,
   "metadata": {},
   "outputs": [
    {
     "data": {
      "text/html": [
       "<div><div style = \"float: left;\"><span>5×10 DataFrame</span></div><div style = \"clear: both;\"></div></div><div class = \"data-frame\" style = \"overflow-x: scroll;\"><table class = \"data-frame\" style = \"margin-bottom: 6px;\"><thead><tr class = \"header\"><th class = \"rowNumber\" style = \"font-weight: bold; text-align: right;\">Row</th><th style = \"text-align: left;\">ES Upwind Classic: order 2</th><th style = \"text-align: left;\">ES MUSCL 2</th><th style = \"text-align: left;\">ES MUSCL 1</th><th style = \"text-align: left;\">ES Upwind Classic: order 1</th><th style = \"text-align: left;\">SS WENO 2</th><th style = \"text-align: left;\">SS Upwind Classic 2</th><th style = \"text-align: left;\">SS MUSCL 1</th><th style = \"text-align: left;\">SS MUSCL 2</th><th style = \"text-align: left;\">SS MUSCL 2 MOOD</th><th style = \"text-align: left;\">SS DumbserWENO 2</th></tr><tr class = \"subheader headerLastRow\"><th class = \"rowNumber\" style = \"font-weight: bold; text-align: right;\"></th><th title = \"Bool\" style = \"text-align: left;\">Bool</th><th title = \"Bool\" style = \"text-align: left;\">Bool</th><th title = \"Bool\" style = \"text-align: left;\">Bool</th><th title = \"Bool\" style = \"text-align: left;\">Bool</th><th title = \"Bool\" style = \"text-align: left;\">Bool</th><th title = \"Bool\" style = \"text-align: left;\">Bool</th><th title = \"Bool\" style = \"text-align: left;\">Bool</th><th title = \"Bool\" style = \"text-align: left;\">Bool</th><th title = \"Bool\" style = \"text-align: left;\">Bool</th><th title = \"Bool\" style = \"text-align: left;\">Bool</th></tr></thead><tbody><tr><td class = \"rowNumber\" style = \"font-weight: bold; text-align: right;\">1</td><td style = \"text-align: right;\">true</td><td style = \"text-align: right;\">true</td><td style = \"text-align: right;\">true</td><td style = \"text-align: right;\">true</td><td style = \"text-align: right;\">false</td><td style = \"text-align: right;\">true</td><td style = \"text-align: right;\">true</td><td style = \"text-align: right;\">true</td><td style = \"text-align: right;\">true</td><td style = \"text-align: right;\">false</td></tr><tr><td class = \"rowNumber\" style = \"font-weight: bold; text-align: right;\">2</td><td style = \"text-align: right;\">true</td><td style = \"text-align: right;\">true</td><td style = \"text-align: right;\">true</td><td style = \"text-align: right;\">true</td><td style = \"text-align: right;\">true</td><td style = \"text-align: right;\">true</td><td style = \"text-align: right;\">true</td><td style = \"text-align: right;\">true</td><td style = \"text-align: right;\">true</td><td style = \"text-align: right;\">false</td></tr><tr><td class = \"rowNumber\" style = \"font-weight: bold; text-align: right;\">3</td><td style = \"text-align: right;\">true</td><td style = \"text-align: right;\">true</td><td style = \"text-align: right;\">true</td><td style = \"text-align: right;\">true</td><td style = \"text-align: right;\">false</td><td style = \"text-align: right;\">true</td><td style = \"text-align: right;\">true</td><td style = \"text-align: right;\">true</td><td style = \"text-align: right;\">true</td><td style = \"text-align: right;\">false</td></tr><tr><td class = \"rowNumber\" style = \"font-weight: bold; text-align: right;\">4</td><td style = \"text-align: right;\">true</td><td style = \"text-align: right;\">true</td><td style = \"text-align: right;\">true</td><td style = \"text-align: right;\">true</td><td style = \"text-align: right;\">true</td><td style = \"text-align: right;\">true</td><td style = \"text-align: right;\">true</td><td style = \"text-align: right;\">true</td><td style = \"text-align: right;\">true</td><td style = \"text-align: right;\">false</td></tr><tr><td class = \"rowNumber\" style = \"font-weight: bold; text-align: right;\">5</td><td style = \"text-align: right;\">true</td><td style = \"text-align: right;\">true</td><td style = \"text-align: right;\">true</td><td style = \"text-align: right;\">true</td><td style = \"text-align: right;\">true</td><td style = \"text-align: right;\">true</td><td style = \"text-align: right;\">true</td><td style = \"text-align: right;\">true</td><td style = \"text-align: right;\">true</td><td style = \"text-align: right;\">false</td></tr></tbody></table></div>"
      ],
      "text/latex": [
       "\\begin{tabular}{r|ccccc}\n",
       "\t& ES Upwind Classic: order 2 & ES MUSCL 2 & ES MUSCL 1 & ES Upwind Classic: order 1 & \\\\\n",
       "\t\\hline\n",
       "\t& Bool & Bool & Bool & Bool & \\\\\n",
       "\t\\hline\n",
       "\t1 & 1 & 1 & 1 & 1 & $\\dots$ \\\\\n",
       "\t2 & 1 & 1 & 1 & 1 & $\\dots$ \\\\\n",
       "\t3 & 1 & 1 & 1 & 1 & $\\dots$ \\\\\n",
       "\t4 & 1 & 1 & 1 & 1 & $\\dots$ \\\\\n",
       "\t5 & 1 & 1 & 1 & 1 & $\\dots$ \\\\\n",
       "\\end{tabular}\n"
      ],
      "text/plain": [
       "\u001b[1m5×10 DataFrame\u001b[0m\n",
       "\u001b[1m Row \u001b[0m│\u001b[1m ES Upwind Classic: order 2 \u001b[0m\u001b[1m ES MUSCL 2 \u001b[0m\u001b[1m ES MUSCL 1 \u001b[0m\u001b[1m ES Upwind Classic: \u001b[0m ⋯\n",
       "     │\u001b[90m Bool                       \u001b[0m\u001b[90m Bool       \u001b[0m\u001b[90m Bool       \u001b[0m\u001b[90m Bool               \u001b[0m ⋯\n",
       "─────┼──────────────────────────────────────────────────────────────────────────\n",
       "   1 │                       true        true        true                      ⋯\n",
       "   2 │                       true        true        true\n",
       "   3 │                       true        true        true\n",
       "   4 │                       true        true        true\n",
       "   5 │                       true        true        true                      ⋯\n",
       "\u001b[36m                                                               7 columns omitted\u001b[0m"
      ]
     },
     "metadata": {},
     "output_type": "display_data"
    }
   ],
   "source": [
    "# Manually fix labels\n",
    "d1 = DataFrame(eigenvalueStability[\"results\"], [\"ES $(x)\" for x in vec(eigenvalueStability[\"labels\"])]);\n",
    "d2 = DataFrame(simulationStability[\"results\"], simulationStability[\"labels\"]);\n",
    "df = hcat(d1, d2);\n",
    "first(df, 5)"
   ]
  },
  {
   "cell_type": "code",
   "execution_count": 16,
   "metadata": {},
   "outputs": [
    {
     "data": {
      "text/html": [
       "<div><div style = \"float: left;\"><span>1×10 DataFrame</span></div><div style = \"clear: both;\"></div></div><div class = \"data-frame\" style = \"overflow-x: scroll;\"><table class = \"data-frame\" style = \"margin-bottom: 6px;\"><thead><tr class = \"header\"><th class = \"rowNumber\" style = \"font-weight: bold; text-align: right;\">Row</th><th style = \"text-align: left;\">ES Upwind Classic: order 2</th><th style = \"text-align: left;\">ES MUSCL 2</th><th style = \"text-align: left;\">ES MUSCL 1</th><th style = \"text-align: left;\">ES Upwind Classic: order 1</th><th style = \"text-align: left;\">SS WENO 2</th><th style = \"text-align: left;\">SS Upwind Classic 2</th><th style = \"text-align: left;\">SS MUSCL 1</th><th style = \"text-align: left;\">SS MUSCL 2</th><th style = \"text-align: left;\">SS MUSCL 2 MOOD</th><th style = \"text-align: left;\">SS DumbserWENO 2</th></tr><tr class = \"subheader headerLastRow\"><th class = \"rowNumber\" style = \"font-weight: bold; text-align: right;\"></th><th title = \"Int64\" style = \"text-align: left;\">Int64</th><th title = \"Int64\" style = \"text-align: left;\">Int64</th><th title = \"Int64\" style = \"text-align: left;\">Int64</th><th title = \"Int64\" style = \"text-align: left;\">Int64</th><th title = \"Int64\" style = \"text-align: left;\">Int64</th><th title = \"Int64\" style = \"text-align: left;\">Int64</th><th title = \"Int64\" style = \"text-align: left;\">Int64</th><th title = \"Int64\" style = \"text-align: left;\">Int64</th><th title = \"Int64\" style = \"text-align: left;\">Int64</th><th title = \"Int64\" style = \"text-align: left;\">Int64</th></tr></thead><tbody><tr><td class = \"rowNumber\" style = \"font-weight: bold; text-align: right;\">1</td><td style = \"text-align: right;\">100</td><td style = \"text-align: right;\">100</td><td style = \"text-align: right;\">100</td><td style = \"text-align: right;\">100</td><td style = \"text-align: right;\">72</td><td style = \"text-align: right;\">100</td><td style = \"text-align: right;\">100</td><td style = \"text-align: right;\">100</td><td style = \"text-align: right;\">100</td><td style = \"text-align: right;\">0</td></tr></tbody></table></div>"
      ],
      "text/latex": [
       "\\begin{tabular}{r|ccccc}\n",
       "\t& ES Upwind Classic: order 2 & ES MUSCL 2 & ES MUSCL 1 & ES Upwind Classic: order 1 & \\\\\n",
       "\t\\hline\n",
       "\t& Int64 & Int64 & Int64 & Int64 & \\\\\n",
       "\t\\hline\n",
       "\t1 & 100 & 100 & 100 & 100 & $\\dots$ \\\\\n",
       "\\end{tabular}\n"
      ],
      "text/plain": [
       "\u001b[1m1×10 DataFrame\u001b[0m\n",
       "\u001b[1m Row \u001b[0m│\u001b[1m ES Upwind Classic: order 2 \u001b[0m\u001b[1m ES MUSCL 2 \u001b[0m\u001b[1m ES MUSCL 1 \u001b[0m\u001b[1m ES Upwind Classic: \u001b[0m ⋯\n",
       "     │\u001b[90m Int64                      \u001b[0m\u001b[90m Int64      \u001b[0m\u001b[90m Int64      \u001b[0m\u001b[90m Int64              \u001b[0m ⋯\n",
       "─────┼──────────────────────────────────────────────────────────────────────────\n",
       "   1 │                        100         100         100                      ⋯\n",
       "\u001b[36m                                                               7 columns omitted\u001b[0m"
      ]
     },
     "metadata": {},
     "output_type": "display_data"
    }
   ],
   "source": [
    "mapcols(col -> count(col), df)"
   ]
  },
  {
   "cell_type": "code",
   "execution_count": 17,
   "metadata": {},
   "outputs": [],
   "source": []
  }
 ],
 "metadata": {
  "kernelspec": {
   "display_name": "Julia 1.10.4",
   "language": "julia",
   "name": "julia-1.10"
  },
  "language_info": {
   "file_extension": ".jl",
   "mimetype": "application/julia",
   "name": "julia",
   "version": "1.10.4"
  }
 },
 "nbformat": 4,
 "nbformat_minor": 2
}
