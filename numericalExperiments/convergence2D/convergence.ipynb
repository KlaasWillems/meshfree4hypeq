{
 "cells": [
  {
   "cell_type": "code",
   "execution_count": 1,
   "metadata": {},
   "outputs": [
    {
     "data": {
      "text/plain": [
       "Plots.PlotlyJSBackend()"
      ]
     },
     "metadata": {},
     "output_type": "display_data"
    }
   ],
   "source": [
    "using JLD2\n",
    "using FileIO\n",
    "using LinearAlgebra\n",
    "using Plots\n",
    "using Dierckx\n",
    "using LinearAlgebra\n",
    "using LaTeXStrings\n",
    "using Meshfree4ScalarEq.ScalarHyperbolicEquations\n",
    "using Meshfree4ScalarEq.ParticleGrids\n",
    "using Meshfree4ScalarEq.TimeIntegration\n",
    "using Meshfree4ScalarEq.Interpolations\n",
    "using Meshfree4ScalarEq.SimSettings\n",
    "using Meshfree4ScalarEq\n",
    "plotlyjs()"
   ]
  },
  {
   "cell_type": "code",
   "execution_count": 2,
   "metadata": {},
   "outputs": [
    {
     "data": {
      "text/plain": [
       "smoothInit (generic function with 1 method)"
      ]
     },
     "metadata": {},
     "output_type": "display_data"
    }
   ],
   "source": [
    "function mapGrid(x, xmin, xmax)\n",
    "    temp = x .- xmin\n",
    "    temp1 = mod.(temp, xmax-xmin)\n",
    "    return temp1 .+ xmin\n",
    "end\n",
    "\n",
    "function smoothInit(x::Real, y::Real)\n",
    "    return exp(-x^2 - y^2)\n",
    "end"
   ]
  },
  {
   "cell_type": "code",
   "execution_count": 3,
   "metadata": {},
   "outputs": [
    {
     "data": {
      "text/plain": [
       "computeError (generic function with 1 method)"
      ]
     },
     "metadata": {},
     "output_type": "display_data"
    }
   ],
   "source": [
    "# TODO: How to compute error correctly? Compute exact solution on irregular grid?\n",
    "function computeError(particleGrid::ParticleGrid2D, initFunc::Function, time::Real, vel::Tuple{Float64, Float64}; normP = 2)    \n",
    "    # Flip boundary particles to other edge of domain such that the interpolating polynomial doesn't need to be extrapolated\n",
    "    function flipBoundary(pos::Tuple{Float64, Float64}, particleGrid::ParticleGrid)\n",
    "        if (pos[1] == particleGrid.xmin) && (pos[2] == particleGrid.ymin)\n",
    "            return (particleGrid.xmax, particleGrid.ymax)\n",
    "        elseif pos[1] == particleGrid.xmin\n",
    "            return (particleGrid.xmax, pos[2])\n",
    "        elseif pos[2] == particleGrid.ymin\n",
    "            return (pos[1], particleGrid.ymax)\n",
    "        else\n",
    "            error(\"Shouldn't happen\")\n",
    "        end\n",
    "    end\n",
    "\n",
    "    # Interpolate solution on regular grid\n",
    "    rhosReduced = collect(map(particle -> particle.rho, particleGrid.grid))\n",
    "    xsIrregularReduced = collect(map(particle -> particle.pos, particleGrid.grid))\n",
    "    # rhosFlipped = [particle.rho for particle in particleGrid.grid if particle.boundary]\n",
    "    # xsIrregularFlipped = [flipBoundary(particle.pos, particleGrid) for particle in particleGrid.grid if particle.boundary]\n",
    "    # rhos = vcat(rhosReduced, rhosFlipped)\n",
    "    # xsIrregular = vcat(xsIrregularFlipped, xsIrregularReduced)\n",
    "    # xIrregular = [x[1] for x in xsIrregular]\n",
    "    # yIrregular = [x[2] for x in xsIrregular]\n",
    "    # xRegular = [x[1] for x in xsRegular]\n",
    "    # yRegular = [x[2] for x in xsRegular]\n",
    "\n",
    "    # rhoSpline = Spline2D(xIrregular, yIrregular, rhos; kx=2, ky=2, s=100000)\n",
    "    # numericalSol = evaluate(rhoSpline, xRegular, yRegular)\n",
    "\n",
    "    # Compute exact solution\n",
    "    # xsRegular = [(x, y) for x in particleGrid.xmin:particleGrid.dx/2:particleGrid.xmax for y in particleGrid.ymin:particleGrid.dy/2:particleGrid.ymax]\n",
    "    exactSol = zeros(length(xsIrregularReduced))\n",
    "    for (index, (x, y)) in enumerate(xsIrregularReduced)\n",
    "        exactSol[index] = initFunc(mapGrid(x - vel[1]*time, particleGrid.xmin, particleGrid.xmax), mapGrid(y - vel[2]*time, particleGrid.ymin, particleGrid.ymax))\n",
    "    end\n",
    "\n",
    "    # Return absolute error\n",
    "    return norm(exactSol - rhosReduced, normP)/norm(exactSol, normP)\n",
    "end\n"
   ]
  },
  {
   "cell_type": "code",
   "execution_count": 12,
   "metadata": {},
   "outputs": [
    {
     "ename": "BoundsError",
     "evalue": "BoundsError: attempt to access 2-element Vector{SubString{String}} at index [3]",
     "output_type": "error",
     "traceback": [
      "BoundsError: attempt to access 2-element Vector{SubString{String}} at index [3]\n",
      "\n",
      "Stacktrace:\n",
      " [1] getindex\n",
      "   @ ./essentials.jl:13 [inlined]\n",
      " [2] indexed_iterate(a::Vector{SubString{String}}, i::Int64, state::Int64)\n",
      "   @ Base ./tuple.jl:93\n",
      " [3] top-level scope\n",
      "   @ /scratch/cac13ruw/meshfree4scalareq/numericalExperiments/convergence2D/jl_notebook_cell_df34fa98e69747e1a8f8a730347b8e2f_W3sdnNjb2RlLXJlbW90ZQ==.jl:8"
     ]
    }
   ],
   "source": [
    "folder = \"$(@__DIR__)/data/\";\n",
    "a = (1.0, 1.0);\n",
    "tmax = 2.5;\n",
    "Algorithms = [\"MeshfreeUpwind1\" \"RK3Upwind1\" \"RK3MOODUpwind2\" \"RK3MUSCL1\" \"RK3MUSCL2\" \"RK3MOODMUSCL1\" \"RK3MOODMUSCL2\" \"RK3WENO2\"]\n",
    "Ns = [30; 50; 70; 100]\n",
    "errors = zeros((length(Ns), length(Algorithms)))\n",
    "for file in readdir(folder)\n",
    "    Alg, _, _, N = split(file, \"_\")\n",
    "    # println(Alg, \", \", N)\n",
    "    N = parse(Float64, N)\n",
    "    if N in Ns\n",
    "        # println(findfirst(x -> x == Alg, Algorithms), \", \", Alg)\n",
    "        # println(findfirst(x -> x == N, Ns), \", \", N)\n",
    "        algIndex = findfirst(x -> x == Alg, Algorithms)[2]\n",
    "        NIndex = findfirst(x -> x == N, Ns)\n",
    "        particleGrid = load(folder*file*\"/data/step1.jld2\")[\"particleGrid\"]\n",
    "        # println(algIndex, \", \", NIndex)\n",
    "        errors[NIndex, algIndex] = computeError(particleGrid, smoothInit, tmax, a)\n",
    "    end\n",
    "end"
   ]
  },
  {
   "cell_type": "code",
   "execution_count": 5,
   "metadata": {},
   "outputs": [
    {
     "name": "stderr",
     "output_type": "stream",
     "text": [
      "┌ Warning: No strict ticks found\n",
      "└ @ PlotUtils /users/cip/techno1/cac13ruw/.julia/packages/PlotUtils/8mrSm/src/ticks.jl:194\n",
      "┌ Warning: attempting to remove probably stale pidfile\n",
      "│   path = /net/nascip131/users/cip/techno1/cac13ruw/.jlassetregistry.lock\n",
      "└ @ Pidfile /users/cip/techno1/cac13ruw/.julia/packages/Pidfile/DDu3M/src/Pidfile.jl:260\n",
      "┌ Warning: No strict ticks found\n",
      "└ @ PlotUtils /users/cip/techno1/cac13ruw/.julia/packages/PlotUtils/8mrSm/src/ticks.jl:194\n"
     ]
    },
    {
     "data": {
      "text/plain": [
       "\"/scratch/cac13ruw/meshfree4scalareq/numericalExperiments/convergence2D/convergence.pdf\""
      ]
     },
     "metadata": {},
     "output_type": "display_data"
    }
   ],
   "source": [
    "bools = [true; true; true; true; true]\n",
    "p1 = plot(Ns, errors[:, bools], xscale=:log10, yscale=:log10, label=Algorithms, legend=:bottomleft, ylabel=\"Relative error\", xlabel=L\"N_x\", title=\"Global error at t=$(tmax)s\", ls=:solid, markershape=:circle, markersize=3, size=(800, 600))\n",
    "plot!(p1, Ns, 4 ./ (Ns.^0.5), label=\"Reference order 1/2\", ls=:dash)\n",
    "plot!(p1, Ns, 75 ./ Ns, label=\"Reference order 1\", ls=:dash)\n",
    "plot!(p1, Ns, 300 ./ (Ns.^2), label=\"Reference order 2\", ls=:dash)\n",
    "savefig(p1, \"$(@__DIR__)/convergence.pdf\")\n"
   ]
  },
  {
   "cell_type": "code",
   "execution_count": 6,
   "metadata": {},
   "outputs": [],
   "source": []
  },
  {
   "cell_type": "code",
   "execution_count": 7,
   "metadata": {},
   "outputs": [],
   "source": []
  },
  {
   "cell_type": "code",
   "execution_count": 8,
   "metadata": {},
   "outputs": [],
   "source": []
  }
 ],
 "metadata": {
  "kernelspec": {
   "display_name": "Julia 1.10.4",
   "language": "julia",
   "name": "julia-1.10"
  },
  "language_info": {
   "file_extension": ".jl",
   "mimetype": "application/julia",
   "name": "julia",
   "version": "1.10.4"
  }
 },
 "nbformat": 4,
 "nbformat_minor": 2
}
