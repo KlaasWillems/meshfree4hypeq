{
 "cells": [
  {
   "cell_type": "code",
   "execution_count": 2,
   "metadata": {},
   "outputs": [],
   "source": [
    "using JLD2\n",
    "using FileIO\n",
    "using DataFrames"
   ]
  },
  {
   "cell_type": "code",
   "execution_count": 9,
   "metadata": {},
   "outputs": [
    {
     "data": {
      "text/html": [
       "<div><div style = \"float: left;\"><span>5×8 DataFrame</span></div><div style = \"clear: both;\"></div></div><div class = \"data-frame\" style = \"overflow-x: scroll;\"><table class = \"data-frame\" style = \"margin-bottom: 6px;\"><thead><tr class = \"header\"><th class = \"rowNumber\" style = \"font-weight: bold; text-align: right;\">Row</th><th style = \"text-align: left;\">SS Upwind 2</th><th style = \"text-align: left;\">SS WENO 2</th><th style = \"text-align: left;\">SS MUSCL 2</th><th style = \"text-align: left;\">SS MUSCL 4</th><th style = \"text-align: left;\">SS MUSCL 2 MOOD</th><th style = \"text-align: left;\">ES Upwind 2</th><th style = \"text-align: left;\">ES MUSCL 2</th><th style = \"text-align: left;\">ES MUSCL 4</th></tr><tr class = \"subheader headerLastRow\"><th class = \"rowNumber\" style = \"font-weight: bold; text-align: right;\"></th><th title = \"Bool\" style = \"text-align: left;\">Bool</th><th title = \"Bool\" style = \"text-align: left;\">Bool</th><th title = \"Bool\" style = \"text-align: left;\">Bool</th><th title = \"Bool\" style = \"text-align: left;\">Bool</th><th title = \"Bool\" style = \"text-align: left;\">Bool</th><th title = \"Bool\" style = \"text-align: left;\">Bool</th><th title = \"Bool\" style = \"text-align: left;\">Bool</th><th title = \"Bool\" style = \"text-align: left;\">Bool</th></tr></thead><tbody><tr><td class = \"rowNumber\" style = \"font-weight: bold; text-align: right;\">1</td><td style = \"text-align: right;\">true</td><td style = \"text-align: right;\">true</td><td style = \"text-align: right;\">true</td><td style = \"text-align: right;\">true</td><td style = \"text-align: right;\">true</td><td style = \"text-align: right;\">true</td><td style = \"text-align: right;\">true</td><td style = \"text-align: right;\">true</td></tr><tr><td class = \"rowNumber\" style = \"font-weight: bold; text-align: right;\">2</td><td style = \"text-align: right;\">true</td><td style = \"text-align: right;\">true</td><td style = \"text-align: right;\">true</td><td style = \"text-align: right;\">true</td><td style = \"text-align: right;\">true</td><td style = \"text-align: right;\">true</td><td style = \"text-align: right;\">true</td><td style = \"text-align: right;\">true</td></tr><tr><td class = \"rowNumber\" style = \"font-weight: bold; text-align: right;\">3</td><td style = \"text-align: right;\">true</td><td style = \"text-align: right;\">true</td><td style = \"text-align: right;\">true</td><td style = \"text-align: right;\">true</td><td style = \"text-align: right;\">true</td><td style = \"text-align: right;\">true</td><td style = \"text-align: right;\">true</td><td style = \"text-align: right;\">true</td></tr><tr><td class = \"rowNumber\" style = \"font-weight: bold; text-align: right;\">4</td><td style = \"text-align: right;\">true</td><td style = \"text-align: right;\">true</td><td style = \"text-align: right;\">true</td><td style = \"text-align: right;\">true</td><td style = \"text-align: right;\">true</td><td style = \"text-align: right;\">true</td><td style = \"text-align: right;\">true</td><td style = \"text-align: right;\">true</td></tr><tr><td class = \"rowNumber\" style = \"font-weight: bold; text-align: right;\">5</td><td style = \"text-align: right;\">true</td><td style = \"text-align: right;\">true</td><td style = \"text-align: right;\">true</td><td style = \"text-align: right;\">true</td><td style = \"text-align: right;\">true</td><td style = \"text-align: right;\">true</td><td style = \"text-align: right;\">true</td><td style = \"text-align: right;\">true</td></tr></tbody></table></div>"
      ],
      "text/latex": [
       "\\begin{tabular}{r|cccccccc}\n",
       "\t& SS Upwind 2 & SS WENO 2 & SS MUSCL 2 & SS MUSCL 4 & SS MUSCL 2 MOOD & ES Upwind 2 & ES MUSCL 2 & \\\\\n",
       "\t\\hline\n",
       "\t& Bool & Bool & Bool & Bool & Bool & Bool & Bool & \\\\\n",
       "\t\\hline\n",
       "\t1 & 1 & 1 & 1 & 1 & 1 & 1 & 1 & $\\dots$ \\\\\n",
       "\t2 & 1 & 1 & 1 & 1 & 1 & 1 & 1 & $\\dots$ \\\\\n",
       "\t3 & 1 & 1 & 1 & 1 & 1 & 1 & 1 & $\\dots$ \\\\\n",
       "\t4 & 1 & 1 & 1 & 1 & 1 & 1 & 1 & $\\dots$ \\\\\n",
       "\t5 & 1 & 1 & 1 & 1 & 1 & 1 & 1 & $\\dots$ \\\\\n",
       "\\end{tabular}\n"
      ],
      "text/plain": [
       "\u001b[1m5×8 DataFrame\u001b[0m\n",
       "\u001b[1m Row \u001b[0m│\u001b[1m SS Upwind 2 \u001b[0m\u001b[1m SS WENO 2 \u001b[0m\u001b[1m SS MUSCL 2 \u001b[0m\u001b[1m SS MUSCL 4 \u001b[0m\u001b[1m SS MUSCL 2 MOOD \u001b[0m\u001b[1m ES Upw\u001b[0m ⋯\n",
       "     │\u001b[90m Bool        \u001b[0m\u001b[90m Bool      \u001b[0m\u001b[90m Bool       \u001b[0m\u001b[90m Bool       \u001b[0m\u001b[90m Bool            \u001b[0m\u001b[90m Bool  \u001b[0m ⋯\n",
       "─────┼──────────────────────────────────────────────────────────────────────────\n",
       "   1 │        true       true        true        true             true         ⋯\n",
       "   2 │        true       true        true        true             true\n",
       "   3 │        true       true        true        true             true\n",
       "   4 │        true       true        true        true             true\n",
       "   5 │        true       true        true        true             true         ⋯\n",
       "\u001b[36m                                                               3 columns omitted\u001b[0m"
      ]
     },
     "metadata": {},
     "output_type": "display_data"
    }
   ],
   "source": [
    "ss = load(\"$(@__DIR__)/data/simulationStability.jld2\");\n",
    "es = load(\"$(@__DIR__)/data/eigenvalueStability.jld2\");\n",
    "dss = DataFrame(ss[\"results\"], [\"SS $(x)\" for x in ss[\"labels\"]]);\n",
    "des = DataFrame(es[\"results\"], [\"ES $(x)\" for x in es[\"labels\"]]);\n",
    "df = hcat(dss, des);\n",
    "first(df, 5)"
   ]
  },
  {
   "cell_type": "code",
   "execution_count": 10,
   "metadata": {},
   "outputs": [
    {
     "data": {
      "text/html": [
       "<div><div style = \"float: left;\"><span>1×8 DataFrame</span></div><div style = \"clear: both;\"></div></div><div class = \"data-frame\" style = \"overflow-x: scroll;\"><table class = \"data-frame\" style = \"margin-bottom: 6px;\"><thead><tr class = \"header\"><th class = \"rowNumber\" style = \"font-weight: bold; text-align: right;\">Row</th><th style = \"text-align: left;\">SS Upwind 2</th><th style = \"text-align: left;\">SS WENO 2</th><th style = \"text-align: left;\">SS MUSCL 2</th><th style = \"text-align: left;\">SS MUSCL 4</th><th style = \"text-align: left;\">SS MUSCL 2 MOOD</th><th style = \"text-align: left;\">ES Upwind 2</th><th style = \"text-align: left;\">ES MUSCL 2</th><th style = \"text-align: left;\">ES MUSCL 4</th></tr><tr class = \"subheader headerLastRow\"><th class = \"rowNumber\" style = \"font-weight: bold; text-align: right;\"></th><th title = \"Int64\" style = \"text-align: left;\">Int64</th><th title = \"Int64\" style = \"text-align: left;\">Int64</th><th title = \"Int64\" style = \"text-align: left;\">Int64</th><th title = \"Int64\" style = \"text-align: left;\">Int64</th><th title = \"Int64\" style = \"text-align: left;\">Int64</th><th title = \"Int64\" style = \"text-align: left;\">Int64</th><th title = \"Int64\" style = \"text-align: left;\">Int64</th><th title = \"Int64\" style = \"text-align: left;\">Int64</th></tr></thead><tbody><tr><td class = \"rowNumber\" style = \"font-weight: bold; text-align: right;\">1</td><td style = \"text-align: right;\">100</td><td style = \"text-align: right;\">96</td><td style = \"text-align: right;\">100</td><td style = \"text-align: right;\">98</td><td style = \"text-align: right;\">100</td><td style = \"text-align: right;\">100</td><td style = \"text-align: right;\">100</td><td style = \"text-align: right;\">98</td></tr></tbody></table></div>"
      ],
      "text/latex": [
       "\\begin{tabular}{r|cccccccc}\n",
       "\t& SS Upwind 2 & SS WENO 2 & SS MUSCL 2 & SS MUSCL 4 & SS MUSCL 2 MOOD & ES Upwind 2 & ES MUSCL 2 & \\\\\n",
       "\t\\hline\n",
       "\t& Int64 & Int64 & Int64 & Int64 & Int64 & Int64 & Int64 & \\\\\n",
       "\t\\hline\n",
       "\t1 & 100 & 96 & 100 & 98 & 100 & 100 & 100 & $\\dots$ \\\\\n",
       "\\end{tabular}\n"
      ],
      "text/plain": [
       "\u001b[1m1×8 DataFrame\u001b[0m\n",
       "\u001b[1m Row \u001b[0m│\u001b[1m SS Upwind 2 \u001b[0m\u001b[1m SS WENO 2 \u001b[0m\u001b[1m SS MUSCL 2 \u001b[0m\u001b[1m SS MUSCL 4 \u001b[0m\u001b[1m SS MUSCL 2 MOOD \u001b[0m\u001b[1m ES Upw\u001b[0m ⋯\n",
       "     │\u001b[90m Int64       \u001b[0m\u001b[90m Int64     \u001b[0m\u001b[90m Int64      \u001b[0m\u001b[90m Int64      \u001b[0m\u001b[90m Int64           \u001b[0m\u001b[90m Int64 \u001b[0m ⋯\n",
       "─────┼──────────────────────────────────────────────────────────────────────────\n",
       "   1 │         100         96         100          98              100         ⋯\n",
       "\u001b[36m                                                               3 columns omitted\u001b[0m"
      ]
     },
     "metadata": {},
     "output_type": "display_data"
    }
   ],
   "source": [
    "mapcols(col -> count(col), df)"
   ]
  },
  {
   "cell_type": "code",
   "execution_count": 31,
   "metadata": {},
   "outputs": [
    {
     "data": {
      "text/plain": [
       "6-element Vector{Int64}:\n",
       " 60\n",
       " 78\n",
       " 79\n",
       " 83\n",
       " 16\n",
       " 18"
      ]
     },
     "metadata": {},
     "output_type": "display_data"
    }
   ],
   "source": [
    "wenoFails = findall(x -> !x, df.\"SS WENO 2\")\n",
    "ssMUSCL4Fails = findall(x -> !x, df.\"SS MUSCL 4\")\n",
    "esMUSCL4Fails = findall(x -> !x, df.\"ES MUSCL 4\")\n",
    "troubleIndices = unique(vcat(wenoFails, ssMUSCL4Fails, esMUSCL4Fails))\n"
   ]
  },
  {
   "cell_type": "code",
   "execution_count": 32,
   "metadata": {},
   "outputs": [
    {
     "data": {
      "text/html": [
       "<div><div style = \"float: left;\"><span>6×8 DataFrame</span></div><div style = \"clear: both;\"></div></div><div class = \"data-frame\" style = \"overflow-x: scroll;\"><table class = \"data-frame\" style = \"margin-bottom: 6px;\"><thead><tr class = \"header\"><th class = \"rowNumber\" style = \"font-weight: bold; text-align: right;\">Row</th><th style = \"text-align: left;\">SS Upwind 2</th><th style = \"text-align: left;\">SS WENO 2</th><th style = \"text-align: left;\">SS MUSCL 2</th><th style = \"text-align: left;\">SS MUSCL 4</th><th style = \"text-align: left;\">SS MUSCL 2 MOOD</th><th style = \"text-align: left;\">ES Upwind 2</th><th style = \"text-align: left;\">ES MUSCL 2</th><th style = \"text-align: left;\">ES MUSCL 4</th></tr><tr class = \"subheader headerLastRow\"><th class = \"rowNumber\" style = \"font-weight: bold; text-align: right;\"></th><th title = \"Bool\" style = \"text-align: left;\">Bool</th><th title = \"Bool\" style = \"text-align: left;\">Bool</th><th title = \"Bool\" style = \"text-align: left;\">Bool</th><th title = \"Bool\" style = \"text-align: left;\">Bool</th><th title = \"Bool\" style = \"text-align: left;\">Bool</th><th title = \"Bool\" style = \"text-align: left;\">Bool</th><th title = \"Bool\" style = \"text-align: left;\">Bool</th><th title = \"Bool\" style = \"text-align: left;\">Bool</th></tr></thead><tbody><tr><td class = \"rowNumber\" style = \"font-weight: bold; text-align: right;\">1</td><td style = \"text-align: right;\">true</td><td style = \"text-align: right;\">false</td><td style = \"text-align: right;\">true</td><td style = \"text-align: right;\">true</td><td style = \"text-align: right;\">true</td><td style = \"text-align: right;\">true</td><td style = \"text-align: right;\">true</td><td style = \"text-align: right;\">true</td></tr><tr><td class = \"rowNumber\" style = \"font-weight: bold; text-align: right;\">2</td><td style = \"text-align: right;\">true</td><td style = \"text-align: right;\">false</td><td style = \"text-align: right;\">true</td><td style = \"text-align: right;\">true</td><td style = \"text-align: right;\">true</td><td style = \"text-align: right;\">true</td><td style = \"text-align: right;\">true</td><td style = \"text-align: right;\">true</td></tr><tr><td class = \"rowNumber\" style = \"font-weight: bold; text-align: right;\">3</td><td style = \"text-align: right;\">true</td><td style = \"text-align: right;\">false</td><td style = \"text-align: right;\">true</td><td style = \"text-align: right;\">true</td><td style = \"text-align: right;\">true</td><td style = \"text-align: right;\">true</td><td style = \"text-align: right;\">true</td><td style = \"text-align: right;\">true</td></tr><tr><td class = \"rowNumber\" style = \"font-weight: bold; text-align: right;\">4</td><td style = \"text-align: right;\">true</td><td style = \"text-align: right;\">false</td><td style = \"text-align: right;\">true</td><td style = \"text-align: right;\">true</td><td style = \"text-align: right;\">true</td><td style = \"text-align: right;\">true</td><td style = \"text-align: right;\">true</td><td style = \"text-align: right;\">true</td></tr><tr><td class = \"rowNumber\" style = \"font-weight: bold; text-align: right;\">5</td><td style = \"text-align: right;\">true</td><td style = \"text-align: right;\">true</td><td style = \"text-align: right;\">true</td><td style = \"text-align: right;\">false</td><td style = \"text-align: right;\">true</td><td style = \"text-align: right;\">true</td><td style = \"text-align: right;\">true</td><td style = \"text-align: right;\">false</td></tr><tr><td class = \"rowNumber\" style = \"font-weight: bold; text-align: right;\">6</td><td style = \"text-align: right;\">true</td><td style = \"text-align: right;\">true</td><td style = \"text-align: right;\">true</td><td style = \"text-align: right;\">false</td><td style = \"text-align: right;\">true</td><td style = \"text-align: right;\">true</td><td style = \"text-align: right;\">true</td><td style = \"text-align: right;\">false</td></tr></tbody></table></div>"
      ],
      "text/latex": [
       "\\begin{tabular}{r|cccccccc}\n",
       "\t& SS Upwind 2 & SS WENO 2 & SS MUSCL 2 & SS MUSCL 4 & SS MUSCL 2 MOOD & ES Upwind 2 & ES MUSCL 2 & \\\\\n",
       "\t\\hline\n",
       "\t& Bool & Bool & Bool & Bool & Bool & Bool & Bool & \\\\\n",
       "\t\\hline\n",
       "\t1 & 1 & 0 & 1 & 1 & 1 & 1 & 1 & $\\dots$ \\\\\n",
       "\t2 & 1 & 0 & 1 & 1 & 1 & 1 & 1 & $\\dots$ \\\\\n",
       "\t3 & 1 & 0 & 1 & 1 & 1 & 1 & 1 & $\\dots$ \\\\\n",
       "\t4 & 1 & 0 & 1 & 1 & 1 & 1 & 1 & $\\dots$ \\\\\n",
       "\t5 & 1 & 1 & 1 & 0 & 1 & 1 & 1 & $\\dots$ \\\\\n",
       "\t6 & 1 & 1 & 1 & 0 & 1 & 1 & 1 & $\\dots$ \\\\\n",
       "\\end{tabular}\n"
      ],
      "text/plain": [
       "\u001b[1m6×8 DataFrame\u001b[0m\n",
       "\u001b[1m Row \u001b[0m│\u001b[1m SS Upwind 2 \u001b[0m\u001b[1m SS WENO 2 \u001b[0m\u001b[1m SS MUSCL 2 \u001b[0m\u001b[1m SS MUSCL 4 \u001b[0m\u001b[1m SS MUSCL 2 MOOD \u001b[0m\u001b[1m ES Upw\u001b[0m ⋯\n",
       "     │\u001b[90m Bool        \u001b[0m\u001b[90m Bool      \u001b[0m\u001b[90m Bool       \u001b[0m\u001b[90m Bool       \u001b[0m\u001b[90m Bool            \u001b[0m\u001b[90m Bool  \u001b[0m ⋯\n",
       "─────┼──────────────────────────────────────────────────────────────────────────\n",
       "   1 │        true      false        true        true             true         ⋯\n",
       "   2 │        true      false        true        true             true\n",
       "   3 │        true      false        true        true             true\n",
       "   4 │        true      false        true        true             true\n",
       "   5 │        true       true        true       false             true         ⋯\n",
       "   6 │        true       true        true       false             true\n",
       "\u001b[36m                                                               3 columns omitted\u001b[0m"
      ]
     },
     "metadata": {},
     "output_type": "display_data"
    }
   ],
   "source": [
    "df[troubleIndices, :]"
   ]
  }
 ],
 "metadata": {
  "kernelspec": {
   "display_name": "Julia 1.10.4",
   "language": "julia",
   "name": "julia-1.10"
  },
  "language_info": {
   "file_extension": ".jl",
   "mimetype": "application/julia",
   "name": "julia",
   "version": "1.10.4"
  }
 },
 "nbformat": 4,
 "nbformat_minor": 2
}
