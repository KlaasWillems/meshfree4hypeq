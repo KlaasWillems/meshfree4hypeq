{
 "cells": [
  {
   "cell_type": "code",
   "execution_count": 8,
   "metadata": {},
   "outputs": [],
   "source": [
    "using JLD2\n",
    "using Statistics\n",
    "using DataFrames"
   ]
  },
  {
   "cell_type": "code",
   "execution_count": 9,
   "metadata": {},
   "outputs": [],
   "source": [
    "algs = [\"upwindPraveen\"; \"upwindClassic\"; \"upwindClassic\"; \"muscl\"; \"muscl\"];\n",
    "orders = [1; 1; 2; 1; 2];\n",
    "totalNumGrids = 50;"
   ]
  },
  {
   "cell_type": "code",
   "execution_count": 10,
   "metadata": {},
   "outputs": [
    {
     "data": {
      "text/plain": [
       "loadData (generic function with 1 method)"
      ]
     },
     "metadata": {},
     "output_type": "display_data"
    }
   ],
   "source": [
    "function loadData(dataFolder)\n",
    "    m1 = Matrix{Float64}(undef, 3, 5)\n",
    "    N1 = Vector{Int64}(undef, 3)\n",
    "    m2 = Matrix{Float64}(undef, 3, 5)\n",
    "    N2 = Vector{Int64}(undef, 3)\n",
    "\n",
    "    i1 = 1\n",
    "    i2 = 1\n",
    "    for file in readdir(dataFolder)\n",
    "        d = load(dataFolder*file)\n",
    "        alphas = d[\"alphas\"]\n",
    "        unstableSim = map(x -> x > 0.0 ? true : false, d[\"res\"])\n",
    "        unstableSims = mapslices(count, unstableSim, dims=1)\n",
    "        if occursin(\"exp\", file)\n",
    "            m1[i1, :] .= 100*unstableSims[:]/totalNumGrids\n",
    "            N1[i1] = d[\"N\"]\n",
    "            i1 += 1\n",
    "        else\n",
    "            m2[i2, :] .= 100*unstableSims[:]/totalNumGrids\n",
    "            N2[i2] = d[\"N\"]\n",
    "            i2 += 1\n",
    "        end\n",
    "    end\n",
    "\n",
    "    dfExp = DataFrame(m1, [\"$(alg) $(order)\" for (alg, order) in zip(algs, orders)]);\n",
    "    dfExp[!, \"N\"] = N1;\n",
    "    sort!(dfExp, :N);\n",
    "    dfinverse = DataFrame(m2, [\"$(alg) $(order)\" for (alg, order) in zip(algs, orders)]);\n",
    "    dfinverse[!, \"N\"] = N2;\n",
    "    sort!(dfinverse, :N);\n",
    "    return dfExp, dfinverse\n",
    "end\n"
   ]
  },
  {
   "cell_type": "markdown",
   "metadata": {},
   "source": [
    "The tables below contain the amount of times out of 100 that the schemes (2D) yielded unstable eigenvalues. The final column gives is the grid size. The top table is for an exponential weight function, the bottom table for an inverse weight function."
   ]
  },
  {
   "cell_type": "markdown",
   "metadata": {},
   "source": [
    "Noise for grids with particles chosen randomly in each cell [$-\\Delta x/2$, $\\Delta x/2$] ($r = \\Delta x/2$). The top table is always for the exponential weight function, the second for the inverse weight function."
   ]
  },
  {
   "cell_type": "code",
   "execution_count": 11,
   "metadata": {},
   "outputs": [
    {
     "name": "stdout",
     "output_type": "stream",
     "text": [
      "/scratch/cac13ruw/meshfree4hypeq/numericalExperiments/gridSensitivity/data2DNoise1/\n",
      "\u001b[1m3×6 DataFrame\u001b[0m\n",
      "\u001b[1m Row \u001b[0m│\u001b[1m upwindPraveen 1 \u001b[0m\u001b[1m upwindClassic 1 \u001b[0m\u001b[1m upwindClassic 2 \u001b[0m\u001b[1m muscl 1 \u001b[0m\u001b[1m muscl 2 \u001b[0m\u001b[1m N     \u001b[0m\n",
      "     │\u001b[90m Float64         \u001b[0m\u001b[90m Float64         \u001b[0m\u001b[90m Float64         \u001b[0m\u001b[90m Float64 \u001b[0m\u001b[90m Float64 \u001b[0m\u001b[90m Int64 \u001b[0m\n",
      "─────┼────────────────────────────────────────────────────────────────────────────\n",
      "   1 │             0.0              0.0              0.0      0.0      0.0     30\n",
      "   2 │             0.0              0.0              0.0      0.0      0.0     40\n",
      "   3 │             0.0              0.0              0.0      0.0      0.0     50\n",
      "/scratch/cac13ruw/meshfree4hypeq/numericalExperiments/gridSensitivity/data2DNoise2/\n",
      "\u001b[1m3×6 DataFrame\u001b[0m\n",
      "\u001b[1m Row \u001b[0m│\u001b[1m upwindPraveen 1 \u001b[0m\u001b[1m upwindClassic 1 \u001b[0m\u001b[1m upwindClassic 2 \u001b[0m\u001b[1m muscl 1 \u001b[0m\u001b[1m muscl 2 \u001b[0m\u001b[1m N     \u001b[0m\n",
      "     │\u001b[90m Float64         \u001b[0m\u001b[90m Float64         \u001b[0m\u001b[90m Float64         \u001b[0m\u001b[90m Float64 \u001b[0m\u001b[90m Float64 \u001b[0m\u001b[90m Int64 \u001b[0m\n",
      "─────┼────────────────────────────────────────────────────────────────────────────\n",
      "   1 │             0.0              0.0              0.0      0.0      0.0     30\n",
      "   2 │             0.0              0.0              0.0      0.0      0.0     40\n",
      "   3 │             0.0              0.0              0.0      0.0      0.0     50\n",
      "/scratch/cac13ruw/meshfree4hypeq/numericalExperiments/gridSensitivity/data2DNoise3/\n",
      "\u001b[1m3×6 DataFrame\u001b[0m\n",
      "\u001b[1m Row \u001b[0m│\u001b[1m upwindPraveen 1 \u001b[0m\u001b[1m upwindClassic 1 \u001b[0m\u001b[1m upwindClassic 2 \u001b[0m\u001b[1m muscl 1 \u001b[0m\u001b[1m muscl 2 \u001b[0m\u001b[1m N     \u001b[0m\n",
      "     │\u001b[90m Float64         \u001b[0m\u001b[90m Float64         \u001b[0m\u001b[90m Float64         \u001b[0m\u001b[90m Float64 \u001b[0m\u001b[90m Float64 \u001b[0m\u001b[90m Int64 \u001b[0m\n",
      "─────┼────────────────────────────────────────────────────────────────────────────\n",
      "   1 │             0.0              0.0              0.0      0.0      0.0     30\n",
      "   2 │             0.0              0.0              0.0      0.0      0.0     40\n",
      "   3 │             0.0              0.0              0.0      0.0      0.0     50\n",
      "/scratch/cac13ruw/meshfree4hypeq/numericalExperiments/gridSensitivity/data2DNoise4/\n",
      "\u001b[1m3×6 DataFrame\u001b[0m\n",
      "\u001b[1m Row \u001b[0m│\u001b[1m upwindPraveen 1 \u001b[0m\u001b[1m upwindClassic 1 \u001b[0m\u001b[1m upwindClassic 2 \u001b[0m\u001b[1m muscl 1 \u001b[0m\u001b[1m muscl 2 \u001b[0m\u001b[1m N     \u001b[0m\n",
      "     │\u001b[90m Float64         \u001b[0m\u001b[90m Float64         \u001b[0m\u001b[90m Float64         \u001b[0m\u001b[90m Float64 \u001b[0m\u001b[90m Float64 \u001b[0m\u001b[90m Int64 \u001b[0m\n",
      "─────┼────────────────────────────────────────────────────────────────────────────\n",
      "   1 │             0.0              0.0              0.0      0.0      0.0     30\n",
      "   2 │             0.0              0.0              0.0      0.0      0.0     40\n",
      "   3 │             0.0              0.0              0.0      0.0      0.0     50\n",
      "/scratch/cac13ruw/meshfree4hypeq/numericalExperiments/gridSensitivity/data2DNoise5/\n",
      "\u001b[1m3×6 DataFrame\u001b[0m\n",
      "\u001b[1m Row \u001b[0m│\u001b[1m upwindPraveen 1 \u001b[0m\u001b[1m upwindClassic 1 \u001b[0m\u001b[1m upwindClassic 2 \u001b[0m\u001b[1m muscl 1 \u001b[0m\u001b[1m muscl 2 \u001b[0m\u001b[1m N     \u001b[0m\n",
      "     │\u001b[90m Float64         \u001b[0m\u001b[90m Float64         \u001b[0m\u001b[90m Float64         \u001b[0m\u001b[90m Float64 \u001b[0m\u001b[90m Float64 \u001b[0m\u001b[90m Int64 \u001b[0m\n",
      "─────┼────────────────────────────────────────────────────────────────────────────\n",
      "   1 │             0.0              0.0              0.0      0.0      0.0     30\n",
      "   2 │             0.0              0.0              0.0      0.0      0.0     40\n",
      "   3 │             0.0              0.0              0.0      0.0      0.0     50\n",
      "/scratch/cac13ruw/meshfree4hypeq/numericalExperiments/gridSensitivity/data2DNoise6/\n",
      "\u001b[1m3×6 DataFrame\u001b[0m\n",
      "\u001b[1m Row \u001b[0m│\u001b[1m upwindPraveen 1 \u001b[0m\u001b[1m upwindClassic 1 \u001b[0m\u001b[1m upwindClassic 2 \u001b[0m\u001b[1m muscl 1 \u001b[0m\u001b[1m muscl 2 \u001b[0m\u001b[1m N     \u001b[0m\n",
      "     │\u001b[90m Float64         \u001b[0m\u001b[90m Float64         \u001b[0m\u001b[90m Float64         \u001b[0m\u001b[90m Float64 \u001b[0m\u001b[90m Float64 \u001b[0m\u001b[90m Int64 \u001b[0m\n",
      "─────┼────────────────────────────────────────────────────────────────────────────\n",
      "   1 │             0.0              0.0              0.0      0.0      0.0     30\n",
      "   2 │             0.0              0.0              0.0      0.0      0.0     40\n",
      "   3 │             0.0              0.0              0.0      0.0      0.0     50\n",
      "/scratch/cac13ruw/meshfree4hypeq/numericalExperiments/gridSensitivity/data2DNoise7/\n",
      "\u001b[1m3×6 DataFrame\u001b[0m\n",
      "\u001b[1m Row \u001b[0m│\u001b[1m upwindPraveen 1 \u001b[0m\u001b[1m upwindClassic 1 \u001b[0m\u001b[1m upwindClassic 2 \u001b[0m\u001b[1m muscl 1 \u001b[0m\u001b[1m muscl 2 \u001b[0m\u001b[1m N     \u001b[0m\n",
      "     │\u001b[90m Float64         \u001b[0m\u001b[90m Float64         \u001b[0m\u001b[90m Float64         \u001b[0m\u001b[90m Float64 \u001b[0m\u001b[90m Float64 \u001b[0m\u001b[90m Int64 \u001b[0m\n",
      "─────┼────────────────────────────────────────────────────────────────────────────\n",
      "   1 │             0.0              0.0              0.0      0.0      0.0     30\n",
      "   2 │             0.0              0.0              0.0      0.0      0.0     40\n",
      "   3 │             0.0              0.0              0.0      0.0      0.0     50\n",
      "/scratch/cac13ruw/meshfree4hypeq/numericalExperiments/gridSensitivity/data2DNoise8/\n",
      "\u001b[1m3×6 DataFrame\u001b[0m\n",
      "\u001b[1m Row \u001b[0m│\u001b[1m upwindPraveen 1 \u001b[0m\u001b[1m upwindClassic 1 \u001b[0m\u001b[1m upwindClassic 2 \u001b[0m\u001b[1m muscl 1 \u001b[0m\u001b[1m muscl 2 \u001b[0m\u001b[1m N     \u001b[0m\n",
      "     │\u001b[90m Float64         \u001b[0m\u001b[90m Float64         \u001b[0m\u001b[90m Float64         \u001b[0m\u001b[90m Float64 \u001b[0m\u001b[90m Float64 \u001b[0m\u001b[90m Int64 \u001b[0m\n",
      "─────┼────────────────────────────────────────────────────────────────────────────\n",
      "   1 │             0.0              0.0              0.0      0.0      0.0     30\n",
      "   2 │             0.0              0.0              0.0      0.0      0.0     40\n",
      "   3 │             0.0              0.0              0.0      0.0      0.0     50\n"
     ]
    }
   ],
   "source": [
    "for folder in [\"$(@__DIR__)/data2DNoise$(x)/\" for x in range(1, 8)]\n",
    "    dfExp, _ = loadData(folder);\n",
    "    println(folder)\n",
    "    println(dfExp)\n",
    "end"
   ]
  },
  {
   "cell_type": "code",
   "execution_count": 12,
   "metadata": {},
   "outputs": [
    {
     "name": "stdout",
     "output_type": "stream",
     "text": [
      "Alg: upwindPraveen, order: 1, unstable eigenvalues: Any[]\n",
      "Alg: upwindClassic, order: 1, unstable eigenvalues: Any[]\n",
      "Alg: upwindClassic, order: 2, unstable eigenvalues: Any[]\n",
      "Alg: muscl, order: 1, unstable eigenvalues: Any[]\n",
      "Alg: muscl, order: 2, unstable eigenvalues: Any[]\n"
     ]
    }
   ],
   "source": [
    "file = load(\"$(@__DIR__)/data2DNoise7/gridSensitivity2D_50_expWeight_alpha1.jld2\")\n",
    "eigs = file[\"eigs\"]\n",
    "\n",
    "for i = 1:length(algs)\n",
    "    println(\"Alg: $(algs[i]), order: $(orders[i]), unstable eigenvalues: $([x for x in eigs[:, i] if x != 0.0])\")\n",
    "end"
   ]
  },
  {
   "cell_type": "code",
   "execution_count": 13,
   "metadata": {},
   "outputs": [],
   "source": []
  },
  {
   "cell_type": "code",
   "execution_count": 14,
   "metadata": {},
   "outputs": [],
   "source": []
  }
 ],
 "metadata": {
  "kernelspec": {
   "display_name": "Julia 1.10.4",
   "language": "julia",
   "name": "julia-1.10"
  },
  "language_info": {
   "file_extension": ".jl",
   "mimetype": "application/julia",
   "name": "julia",
   "version": "1.10.4"
  }
 },
 "nbformat": 4,
 "nbformat_minor": 2
}
