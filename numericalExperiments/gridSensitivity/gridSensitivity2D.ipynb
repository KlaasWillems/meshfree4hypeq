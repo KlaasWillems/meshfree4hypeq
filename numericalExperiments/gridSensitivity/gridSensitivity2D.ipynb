{
 "cells": [
  {
   "cell_type": "code",
   "execution_count": 65,
   "metadata": {},
   "outputs": [],
   "source": [
    "using JLD2\n",
    "using Statistics\n",
    "using DataFrames"
   ]
  },
  {
   "cell_type": "code",
   "execution_count": 66,
   "metadata": {},
   "outputs": [],
   "source": [
    "algs = [\"upwindPraveen\"; \"upwindClassic\"; \"upwindClassic\"; \"muscl\"; \"muscl\"];\n",
    "orders = [1; 1; 2; 1; 2];\n",
    "totalNumGrids = 50;"
   ]
  },
  {
   "cell_type": "code",
   "execution_count": 67,
   "metadata": {},
   "outputs": [
    {
     "data": {
      "text/plain": [
       "loadData (generic function with 1 method)"
      ]
     },
     "metadata": {},
     "output_type": "display_data"
    }
   ],
   "source": [
    "function loadData(dataFolder)\n",
    "    m1 = Matrix{Float64}(undef, 3, 5)\n",
    "    N1 = Vector{Int64}(undef, 3)\n",
    "    m2 = Matrix{Float64}(undef, 3, 5)\n",
    "    N2 = Vector{Int64}(undef, 3)\n",
    "\n",
    "    i1 = 1\n",
    "    i2 = 1\n",
    "    for file in readdir(dataFolder)\n",
    "        d = load(dataFolder*file)\n",
    "        alphas = d[\"alphas\"]\n",
    "        unstableSim = map(x -> x > 0.0 ? true : false, d[\"res\"])\n",
    "        unstableSims = mapslices(count, unstableSim, dims=1)\n",
    "        if occursin(\"exp\", file)\n",
    "            m1[i1, :] .= 100*unstableSims[:]/totalNumGrids\n",
    "            N1[i1] = d[\"N\"]\n",
    "            i1 += 1\n",
    "        else\n",
    "            m2[i2, :] .= 100*unstableSims[:]/totalNumGrids\n",
    "            N2[i2] = d[\"N\"]\n",
    "            i2 += 1\n",
    "        end\n",
    "    end\n",
    "\n",
    "    dfExp = DataFrame(m1, [\"$(alg) $(order)\" for (alg, order) in zip(algs, orders)]);\n",
    "    dfExp[!, \"N\"] = N1;\n",
    "    sort!(dfExp, :N);\n",
    "    dfinverse = DataFrame(m2, [\"$(alg) $(order)\" for (alg, order) in zip(algs, orders)]);\n",
    "    dfinverse[!, \"N\"] = N2;\n",
    "    sort!(dfinverse, :N);\n",
    "    return dfExp, dfinverse\n",
    "end\n"
   ]
  },
  {
   "cell_type": "markdown",
   "metadata": {},
   "source": [
    "The tables below contain the amount of times out of 100 that the schemes (2D) yielded unstable eigenvalues. The final column gives is the grid size. The top table is for an exponential weight function, the bottom table for an inverse weight function."
   ]
  },
  {
   "cell_type": "markdown",
   "metadata": {},
   "source": [
    "Noise for grids with particles chosen randomly in each cell [$-\\Delta x/2$, $\\Delta x/2$] ($r = \\Delta x/2$). The top table is always for the exponential weight function, the second for the inverse weight function."
   ]
  },
  {
   "cell_type": "code",
   "execution_count": 68,
   "metadata": {},
   "outputs": [
    {
     "name": "stdout",
     "output_type": "stream",
     "text": [
      "/scratch/cac13ruw/meshfree4scalareq/numericalExperiments/gridSensitivity/data2DNoise1/\n",
      "\u001b[1m3×6 DataFrame\u001b[0m\n",
      "\u001b[1m Row \u001b[0m│\u001b[1m upwindPraveen 1 \u001b[0m\u001b[1m upwindClassic 1 \u001b[0m\u001b[1m upwindClassic 2 \u001b[0m\u001b[1m muscl 1 \u001b[0m\u001b[1m muscl 2 \u001b[0m\u001b[1m N     \u001b[0m\n",
      "     │\u001b[90m Float64         \u001b[0m\u001b[90m Float64         \u001b[0m\u001b[90m Float64         \u001b[0m\u001b[90m Float64 \u001b[0m\u001b[90m Float64 \u001b[0m\u001b[90m Int64 \u001b[0m\n",
      "─────┼────────────────────────────────────────────────────────────────────────────\n",
      "   1 │             0.0             16.0             76.0     50.0     42.0     30\n",
      "   2 │             0.0              4.0             84.0     52.0     30.0     40\n",
      "   3 │             0.0              0.0             98.0     48.0     28.0     50\n",
      "/scratch/cac13ruw/meshfree4scalareq/numericalExperiments/gridSensitivity/data2DNoise2/\n",
      "\u001b[1m3×6 DataFrame\u001b[0m\n",
      "\u001b[1m Row \u001b[0m│\u001b[1m upwindPraveen 1 \u001b[0m\u001b[1m upwindClassic 1 \u001b[0m\u001b[1m upwindClassic 2 \u001b[0m\u001b[1m muscl 1 \u001b[0m\u001b[1m muscl 2 \u001b[0m\u001b[1m N     \u001b[0m\n",
      "     │\u001b[90m Float64         \u001b[0m\u001b[90m Float64         \u001b[0m\u001b[90m Float64         \u001b[0m\u001b[90m Float64 \u001b[0m\u001b[90m Float64 \u001b[0m\u001b[90m Int64 \u001b[0m\n",
      "─────┼────────────────────────────────────────────────────────────────────────────\n",
      "   1 │             0.0              8.0             26.0     52.0     26.0     30\n",
      "   2 │             0.0              4.0             26.0     56.0     22.0     40\n",
      "   3 │             0.0              2.0             20.0     48.0     22.0     50\n",
      "/scratch/cac13ruw/meshfree4scalareq/numericalExperiments/gridSensitivity/data2DNoise3/\n",
      "\u001b[1m3×6 DataFrame\u001b[0m\n",
      "\u001b[1m Row \u001b[0m│\u001b[1m upwindPraveen 1 \u001b[0m\u001b[1m upwindClassic 1 \u001b[0m\u001b[1m upwindClassic 2 \u001b[0m\u001b[1m muscl 1 \u001b[0m\u001b[1m muscl 2 \u001b[0m\u001b[1m N     \u001b[0m\n",
      "     │\u001b[90m Float64         \u001b[0m\u001b[90m Float64         \u001b[0m\u001b[90m Float64         \u001b[0m\u001b[90m Float64 \u001b[0m\u001b[90m Float64 \u001b[0m\u001b[90m Int64 \u001b[0m\n",
      "─────┼────────────────────────────────────────────────────────────────────────────\n",
      "   1 │             0.0             10.0             30.0     52.0     26.0     30\n",
      "   2 │             0.0              4.0             26.0     56.0     22.0     40\n",
      "   3 │             0.0              4.0             18.0     48.0     22.0     50\n",
      "/scratch/cac13ruw/meshfree4scalareq/numericalExperiments/gridSensitivity/data2DNoise4/\n",
      "\u001b[1m3×6 DataFrame\u001b[0m\n",
      "\u001b[1m Row \u001b[0m│\u001b[1m upwindPraveen 1 \u001b[0m\u001b[1m upwindClassic 1 \u001b[0m\u001b[1m upwindClassic 2 \u001b[0m\u001b[1m muscl 1 \u001b[0m\u001b[1m muscl 2 \u001b[0m\u001b[1m N     \u001b[0m\n",
      "     │\u001b[90m Float64         \u001b[0m\u001b[90m Float64         \u001b[0m\u001b[90m Float64         \u001b[0m\u001b[90m Float64 \u001b[0m\u001b[90m Float64 \u001b[0m\u001b[90m Int64 \u001b[0m\n",
      "─────┼────────────────────────────────────────────────────────────────────────────\n",
      "   1 │             0.0             12.0             30.0     52.0     26.0     30\n",
      "   2 │             0.0              4.0             24.0     56.0     22.0     40\n",
      "   3 │             0.0              4.0             18.0     48.0     22.0     50\n",
      "/scratch/cac13ruw/meshfree4scalareq/numericalExperiments/gridSensitivity/data2DNoise5/\n",
      "\u001b[1m3×6 DataFrame\u001b[0m\n",
      "\u001b[1m Row \u001b[0m│\u001b[1m upwindPraveen 1 \u001b[0m\u001b[1m upwindClassic 1 \u001b[0m\u001b[1m upwindClassic 2 \u001b[0m\u001b[1m muscl 1 \u001b[0m\u001b[1m muscl 2 \u001b[0m\u001b[1m N     \u001b[0m\n",
      "     │\u001b[90m Float64         \u001b[0m\u001b[90m Float64         \u001b[0m\u001b[90m Float64         \u001b[0m\u001b[90m Float64 \u001b[0m\u001b[90m Float64 \u001b[0m\u001b[90m Int64 \u001b[0m\n",
      "─────┼────────────────────────────────────────────────────────────────────────────\n",
      "   1 │             0.0             12.0             34.0     52.0     26.0     30\n",
      "   2 │             0.0              6.0             26.0     56.0     22.0     40\n",
      "   3 │             0.0              4.0             22.0     48.0     22.0     50\n",
      "/scratch/cac13ruw/meshfree4scalareq/numericalExperiments/gridSensitivity/data2DNoise6/\n",
      "\u001b[1m3×6 DataFrame\u001b[0m\n",
      "\u001b[1m Row \u001b[0m│\u001b[1m upwindPraveen 1 \u001b[0m\u001b[1m upwindClassic 1 \u001b[0m\u001b[1m upwindClassic 2 \u001b[0m\u001b[1m muscl 1 \u001b[0m\u001b[1m muscl 2 \u001b[0m\u001b[1m N     \u001b[0m\n",
      "     │\u001b[90m Float64         \u001b[0m\u001b[90m Float64         \u001b[0m\u001b[90m Float64         \u001b[0m\u001b[90m Float64 \u001b[0m\u001b[90m Float64 \u001b[0m\u001b[90m Int64 \u001b[0m\n",
      "─────┼────────────────────────────────────────────────────────────────────────────\n",
      "   1 │             0.0             12.0             34.0     52.0     30.0     30\n",
      "   2 │             0.0              6.0             26.0     56.0     24.0     40\n",
      "   3 │             0.0              4.0             22.0     48.0     22.0     50\n",
      "/scratch/cac13ruw/meshfree4scalareq/numericalExperiments/gridSensitivity/data2DNoise7/\n",
      "\u001b[1m3×6 DataFrame\u001b[0m\n",
      "\u001b[1m Row \u001b[0m│\u001b[1m upwindPraveen 1 \u001b[0m\u001b[1m upwindClassic 1 \u001b[0m\u001b[1m upwindClassic 2 \u001b[0m\u001b[1m muscl 1 \u001b[0m\u001b[1m muscl 2 \u001b[0m\u001b[1m N     \u001b[0m\n",
      "     │\u001b[90m Float64         \u001b[0m\u001b[90m Float64         \u001b[0m\u001b[90m Float64         \u001b[0m\u001b[90m Float64 \u001b[0m\u001b[90m Float64 \u001b[0m\u001b[90m Int64 \u001b[0m\n",
      "─────┼────────────────────────────────────────────────────────────────────────────\n",
      "   1 │             0.0             12.0             34.0     52.0     30.0     30\n",
      "   2 │             0.0              6.0             26.0     56.0     24.0     40\n",
      "   3 │             0.0              4.0             22.0     48.0     22.0     50\n",
      "/scratch/cac13ruw/meshfree4scalareq/numericalExperiments/gridSensitivity/data2DNoise8/\n",
      "\u001b[1m3×6 DataFrame\u001b[0m\n",
      "\u001b[1m Row \u001b[0m│\u001b[1m upwindPraveen 1 \u001b[0m\u001b[1m upwindClassic 1 \u001b[0m\u001b[1m upwindClassic 2 \u001b[0m\u001b[1m muscl 1 \u001b[0m\u001b[1m muscl 2 \u001b[0m\u001b[1m N     \u001b[0m\n",
      "     │\u001b[90m Float64         \u001b[0m\u001b[90m Float64         \u001b[0m\u001b[90m Float64         \u001b[0m\u001b[90m Float64 \u001b[0m\u001b[90m Float64 \u001b[0m\u001b[90m Int64 \u001b[0m\n",
      "─────┼────────────────────────────────────────────────────────────────────────────\n",
      "   1 │             0.0              0.0              0.0      0.0      0.0     30\n",
      "   2 │             0.0              0.0              0.0      0.0      0.0     40\n",
      "   3 │             0.0              0.0              0.0      0.0      0.0     50\n"
     ]
    }
   ],
   "source": [
    "for folder in [\"$(@__DIR__)/data2DNoise$(x)/\" for x in range(1, 8)]\n",
    "    dfExp, _ = loadData(folder);\n",
    "    println(folder)\n",
    "    println(dfExp)\n",
    "end\n"
   ]
  },
  {
   "cell_type": "code",
   "execution_count": 72,
   "metadata": {},
   "outputs": [
    {
     "name": "stdout",
     "output_type": "stream",
     "text": [
      "Alg: upwindPraveen, order: 1, unstable eigenvalues: Any[]\n",
      "Alg: upwindClassic, order: 1, unstable eigenvalues: ComplexF64[0.2542361229083768 + 0.0im, 0.2535122774711852 + 0.0im]\n",
      "Alg: upwindClassic, order: 2, unstable eigenvalues: ComplexF64[51675.96636989729 + 0.0im, 3432.574869303104 + 0.0im, 22210.2195955694 + 0.0im, 54609.33229129424 + 0.0im, 13127.263221534944 + 0.0im, 150631.5483332679 + 0.0im, 13051.429919758195 + 0.0im, 15371.109224663616 + 0.0im, 11943.092564734492 + 0.0im, 107109.31734092462 + 0.0im, 13567.865708258763 + 0.0im]\n",
      "Alg: muscl, order: 1, unstable eigenvalues: ComplexF64[0.9601255271344851 + 0.0im, 1.4941344246593824 + 0.0im, 1.1941223242801293 + 0.0im, 1.7065852634540781 + 0.0im, 1.697147795895723 + 0.0im, 0.6362893505565 + 0.0im, 1.707466174556377 + 0.0im, 1.7069436325871474 + 0.0im, 0.9601718601694206 + 0.0im, 1.696090054058163 + 0.0im, 0.9619380069350019 + 0.0im, 0.9599072812206775 + 0.0im, 1.4841387100998857 + 0.0im, 0.8374285755693998 + 0.0im, 1.484678851458125 + 0.0im, 0.6216180084107409 + 0.0im, 1.4850297221164903 + 0.0im, 1.4950307419144035 + 0.0im, 0.6368168576954112 + 0.0im, 1.4935723152314069 + 0.0im, 0.9606322186164985 + 0.0im, 0.9772690534497005 + 0.0im, 0.9615656193133186 + 0.0im, 0.6372879583251634 + 0.0im]\n",
      "Alg: muscl, order: 2, unstable eigenvalues: ComplexF64[0.22741516621577995 + 0.0im, 1.7399041825850103 + 0.0im, 1.7310641898924193 + 0.0im, 1.7487734340817385 + 0.0im, 1.7459016003268641 + 0.0im, 1.7284719036479423 + 0.0im, 0.21715120308240635 + 0.0im, 0.2133206239291509 + 0.0im, 0.2155777743201918 + 0.0im, 0.22907140264971626 + 0.0im, 0.2174212973368109 + 0.0im]\n"
     ]
    }
   ],
   "source": [
    "file = load(\"$(@__DIR__)/data2DNoise7/gridSensitivity2D_50_expWeight_alpha1.jld2\")\n",
    "eigs = file[\"eigs\"]\n",
    "\n",
    "for i = 1:length(algs)\n",
    "    println(\"Alg: $(algs[i]), order: $(orders[i]), unstable eigenvalues: $([x for x in eigs[:, i] if x != 0.0])\")\n",
    "end"
   ]
  },
  {
   "cell_type": "code",
   "execution_count": 70,
   "metadata": {},
   "outputs": [],
   "source": []
  },
  {
   "cell_type": "code",
   "execution_count": 71,
   "metadata": {},
   "outputs": [],
   "source": []
  }
 ],
 "metadata": {
  "kernelspec": {
   "display_name": "Julia 1.10.4",
   "language": "julia",
   "name": "julia-1.10"
  },
  "language_info": {
   "file_extension": ".jl",
   "mimetype": "application/julia",
   "name": "julia",
   "version": "1.10.4"
  }
 },
 "nbformat": 4,
 "nbformat_minor": 2
}
